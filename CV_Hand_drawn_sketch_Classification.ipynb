{
  "cells": [
    {
      "cell_type": "markdown",
      "metadata": {
        "id": "RSf_KdQzaiNl"
      },
      "source": [
        "# Course Project-1\n",
        "### CSL7360 - Computer Vision\n",
        "Aayush Gautam(B20EE002) \\\\\n",
        "Akshat Jain(B20AI054) \\\\\n",
        "Deep Vasan(B20CS083) \\\\\n",
        "Dev Goel(B20CS090)"
      ]
    },
    {
      "cell_type": "code",
      "execution_count": null,
      "metadata": {
        "colab": {
          "base_uri": "https://localhost:8080/"
        },
        "id": "sVUWXv42sALz",
        "outputId": "d32a3008-4958-4453-9b1c-202819c0c4e0"
      },
      "outputs": [
        {
          "output_type": "stream",
          "name": "stdout",
          "text": [
            "Mounted at /content/drive\n"
          ]
        }
      ],
      "source": [
        "from google.colab import drive\n",
        "drive.mount('/content/drive')"
      ]
    },
    {
      "cell_type": "markdown",
      "metadata": {
        "id": "huj3D91Fa9w3"
      },
      "source": [
        "## Libraries"
      ]
    },
    {
      "cell_type": "code",
      "execution_count": null,
      "metadata": {
        "id": "vns42l3AZkSJ"
      },
      "outputs": [],
      "source": [
        "import os\n",
        "import glob\n",
        "import numpy as np\n",
        "import pandas as pd\n",
        "import seaborn as sns\n",
        "import urllib.request\n",
        "import tensorflow as tf\n",
        "from PIL import Image as im\n",
        "from matplotlib import pyplot\n",
        "from sklearn.model_selection import KFold\n",
        "from sklearn.metrics import accuracy_score\n",
        "import matplotlib.pyplot as plt\n",
        "\n",
        "import cv2\n",
        "from sklearn.preprocessing import StandardScaler\n",
        "from skimage.feature import hog\n",
        "from skimage.feature import local_binary_pattern\n",
        "\n",
        "from sklearn.model_selection import GridSearchCV\n",
        "from sklearn.ensemble._forest import RandomForestClassifier\n",
        "from sklearn.neighbors import KNeighborsClassifier\n",
        "from sklearn.neural_network import MLPClassifier\n",
        "from sklearn.linear_model import LogisticRegression\n",
        "from sklearn.svm import SVC\n",
        "from sklearn.naive_bayes import GaussianNB\n",
        "\n",
        "from google.colab.patches import cv2_imshow\n",
        "import plotly.graph_objects as go\n",
        "\n",
        "import torch\n",
        "import torch.nn as nn\n",
        "import torch.optim as optim\n",
        "from torch.utils.data import DataLoader, TensorDataset\n",
        "from tqdm import tqdm\n",
        "\n",
        "import xgboost as xgb\n",
        "from sklearn.ensemble import AdaBoostClassifier\n",
        "from sklearn.tree import DecisionTreeClassifier\n",
        "from sklearn.decomposition import PCA\n"
      ]
    },
    {
      "cell_type": "markdown",
      "metadata": {
        "id": "HY5_KrmDr66Y"
      },
      "source": [
        "##Global Variables"
      ]
    },
    {
      "cell_type": "code",
      "execution_count": null,
      "metadata": {
        "id": "GL8WTEFXr9GY"
      },
      "outputs": [],
      "source": [
        "quickdraw_dataset_path = \"/content/drive/MyDrive/CV_Datasets/Quick_Draw\""
      ]
    },
    {
      "cell_type": "code",
      "execution_count": null,
      "metadata": {
        "id": "5sjCyJOsBMGr"
      },
      "outputs": [],
      "source": [
        "!mkdir quickdraw_dataset_path"
      ]
    },
    {
      "cell_type": "markdown",
      "metadata": {
        "id": "GO8SZKeJbEY-"
      },
      "source": [
        "## Importing Dataset\n"
      ]
    },
    {
      "cell_type": "markdown",
      "metadata": {
        "id": "8_yRej6heBJR"
      },
      "source": [
        "### Quickdraw Dataset"
      ]
    },
    {
      "cell_type": "code",
      "execution_count": null,
      "metadata": {
        "colab": {
          "base_uri": "https://localhost:8080/",
          "height": 1000
        },
        "id": "_48ITWlzbJbR",
        "outputId": "d5505b02-b88f-411b-eb28-1b80befe1a6e"
      },
      "outputs": [
        {
          "output_type": "stream",
          "name": "stdout",
          "text": [
            "Downloaded: airplane.npy\n",
            "Downloaded: ambulance.npy\n",
            "Downloaded: angel.npy\n",
            "Downloaded: ant.npy\n",
            "Downloaded: anvil.npy\n",
            "Downloaded: apple.npy\n",
            "Downloaded: arm.npy\n",
            "Downloaded: asparagus.npy\n",
            "Downloaded: axe.npy\n",
            "Downloaded: backpack.npy\n",
            "Downloaded: banana.npy\n",
            "Downloaded: bandage.npy\n",
            "Downloaded: barn.npy\n",
            "Downloaded: baseball.npy\n",
            "Downloaded: basket.npy\n",
            "Downloaded: basketball.npy\n",
            "Downloaded: bat.npy\n",
            "Downloaded: bathtub.npy\n",
            "Downloaded: beach.npy\n",
            "Downloaded: bear.npy\n",
            "Downloaded: beard.npy\n",
            "Downloaded: bed.npy\n",
            "Downloaded: bee.npy\n",
            "Downloaded: belt.npy\n",
            "Downloaded: bench.npy\n",
            "Downloaded: bicycle.npy\n",
            "Downloaded: binoculars.npy\n",
            "Downloaded: bird.npy\n",
            "Downloaded: birthday cake.npy\n",
            "Downloaded: blackberry.npy\n",
            "Downloaded: blueberry.npy\n",
            "Downloaded: book.npy\n",
            "Downloaded: boomerang.npy\n",
            "Downloaded: bottlecap.npy\n",
            "Downloaded: bowtie.npy\n",
            "Downloaded: bracelet.npy\n",
            "Downloaded: brain.npy\n",
            "Downloaded: bread.npy\n",
            "Downloaded: bridge.npy\n",
            "Downloaded: broccoli.npy\n",
            "Downloaded: broom.npy\n",
            "Downloaded: bucket.npy\n",
            "Downloaded: bulldozer.npy\n",
            "Downloaded: bus.npy\n",
            "Downloaded: bush.npy\n",
            "Downloaded: butterfly.npy\n",
            "Downloaded: cactus.npy\n",
            "Downloaded: cake.npy\n",
            "Downloaded: calculator.npy\n",
            "Downloaded: calendar.npy\n",
            "Downloaded: camel.npy\n",
            "Downloaded: camera.npy\n"
          ]
        },
        {
          "output_type": "error",
          "ename": "KeyboardInterrupt",
          "evalue": "",
          "traceback": [
            "\u001b[0;31m---------------------------------------------------------------------------\u001b[0m",
            "\u001b[0;31mKeyboardInterrupt\u001b[0m                         Traceback (most recent call last)",
            "\u001b[0;32m<ipython-input-5-61820e81914b>\u001b[0m in \u001b[0;36m<cell line: 32>\u001b[0;34m()\u001b[0m\n\u001b[1;32m     30\u001b[0m \u001b[0msave_directory\u001b[0m \u001b[0;34m=\u001b[0m \u001b[0;34m\"/content/drive/MyDrive/CV_Datasets/Quick_Draw/\"\u001b[0m  \u001b[0;31m# Specify where you want to save the data\u001b[0m\u001b[0;34m\u001b[0m\u001b[0;34m\u001b[0m\u001b[0m\n\u001b[1;32m     31\u001b[0m \u001b[0;34m\u001b[0m\u001b[0m\n\u001b[0;32m---> 32\u001b[0;31m \u001b[0mdownload_quickdraw_dataset\u001b[0m\u001b[0;34m(\u001b[0m\u001b[0mcategories_to_download\u001b[0m\u001b[0;34m,\u001b[0m \u001b[0msave_directory\u001b[0m\u001b[0;34m)\u001b[0m\u001b[0;34m\u001b[0m\u001b[0;34m\u001b[0m\u001b[0m\n\u001b[0m",
            "\u001b[0;32m<ipython-input-5-61820e81914b>\u001b[0m in \u001b[0;36mdownload_quickdraw_dataset\u001b[0;34m(categories, save_path)\u001b[0m\n\u001b[1;32m     18\u001b[0m \u001b[0;34m\u001b[0m\u001b[0m\n\u001b[1;32m     19\u001b[0m         \u001b[0;31m# Download the file\u001b[0m\u001b[0;34m\u001b[0m\u001b[0;34m\u001b[0m\u001b[0m\n\u001b[0;32m---> 20\u001b[0;31m         \u001b[0mresponse\u001b[0m \u001b[0;34m=\u001b[0m \u001b[0mrequests\u001b[0m\u001b[0;34m.\u001b[0m\u001b[0mget\u001b[0m\u001b[0;34m(\u001b[0m\u001b[0mcategory_url\u001b[0m\u001b[0;34m)\u001b[0m\u001b[0;34m\u001b[0m\u001b[0;34m\u001b[0m\u001b[0m\n\u001b[0m\u001b[1;32m     21\u001b[0m         \u001b[0;32mwith\u001b[0m \u001b[0mopen\u001b[0m\u001b[0;34m(\u001b[0m\u001b[0msave_file\u001b[0m\u001b[0;34m,\u001b[0m \u001b[0;34m\"wb\"\u001b[0m\u001b[0;34m)\u001b[0m \u001b[0;32mas\u001b[0m \u001b[0mf\u001b[0m\u001b[0;34m:\u001b[0m\u001b[0;34m\u001b[0m\u001b[0;34m\u001b[0m\u001b[0m\n\u001b[1;32m     22\u001b[0m             \u001b[0mf\u001b[0m\u001b[0;34m.\u001b[0m\u001b[0mwrite\u001b[0m\u001b[0;34m(\u001b[0m\u001b[0mresponse\u001b[0m\u001b[0;34m.\u001b[0m\u001b[0mcontent\u001b[0m\u001b[0;34m)\u001b[0m\u001b[0;34m\u001b[0m\u001b[0;34m\u001b[0m\u001b[0m\n",
            "\u001b[0;32m/usr/local/lib/python3.10/dist-packages/requests/api.py\u001b[0m in \u001b[0;36mget\u001b[0;34m(url, params, **kwargs)\u001b[0m\n\u001b[1;32m     71\u001b[0m     \"\"\"\n\u001b[1;32m     72\u001b[0m \u001b[0;34m\u001b[0m\u001b[0m\n\u001b[0;32m---> 73\u001b[0;31m     \u001b[0;32mreturn\u001b[0m \u001b[0mrequest\u001b[0m\u001b[0;34m(\u001b[0m\u001b[0;34m\"get\"\u001b[0m\u001b[0;34m,\u001b[0m \u001b[0murl\u001b[0m\u001b[0;34m,\u001b[0m \u001b[0mparams\u001b[0m\u001b[0;34m=\u001b[0m\u001b[0mparams\u001b[0m\u001b[0;34m,\u001b[0m \u001b[0;34m**\u001b[0m\u001b[0mkwargs\u001b[0m\u001b[0;34m)\u001b[0m\u001b[0;34m\u001b[0m\u001b[0;34m\u001b[0m\u001b[0m\n\u001b[0m\u001b[1;32m     74\u001b[0m \u001b[0;34m\u001b[0m\u001b[0m\n\u001b[1;32m     75\u001b[0m \u001b[0;34m\u001b[0m\u001b[0m\n",
            "\u001b[0;32m/usr/local/lib/python3.10/dist-packages/requests/api.py\u001b[0m in \u001b[0;36mrequest\u001b[0;34m(method, url, **kwargs)\u001b[0m\n\u001b[1;32m     57\u001b[0m     \u001b[0;31m# cases, and look like a memory leak in others.\u001b[0m\u001b[0;34m\u001b[0m\u001b[0;34m\u001b[0m\u001b[0m\n\u001b[1;32m     58\u001b[0m     \u001b[0;32mwith\u001b[0m \u001b[0msessions\u001b[0m\u001b[0;34m.\u001b[0m\u001b[0mSession\u001b[0m\u001b[0;34m(\u001b[0m\u001b[0;34m)\u001b[0m \u001b[0;32mas\u001b[0m \u001b[0msession\u001b[0m\u001b[0;34m:\u001b[0m\u001b[0;34m\u001b[0m\u001b[0;34m\u001b[0m\u001b[0m\n\u001b[0;32m---> 59\u001b[0;31m         \u001b[0;32mreturn\u001b[0m \u001b[0msession\u001b[0m\u001b[0;34m.\u001b[0m\u001b[0mrequest\u001b[0m\u001b[0;34m(\u001b[0m\u001b[0mmethod\u001b[0m\u001b[0;34m=\u001b[0m\u001b[0mmethod\u001b[0m\u001b[0;34m,\u001b[0m \u001b[0murl\u001b[0m\u001b[0;34m=\u001b[0m\u001b[0murl\u001b[0m\u001b[0;34m,\u001b[0m \u001b[0;34m**\u001b[0m\u001b[0mkwargs\u001b[0m\u001b[0;34m)\u001b[0m\u001b[0;34m\u001b[0m\u001b[0;34m\u001b[0m\u001b[0m\n\u001b[0m\u001b[1;32m     60\u001b[0m \u001b[0;34m\u001b[0m\u001b[0m\n\u001b[1;32m     61\u001b[0m \u001b[0;34m\u001b[0m\u001b[0m\n",
            "\u001b[0;32m/usr/local/lib/python3.10/dist-packages/requests/sessions.py\u001b[0m in \u001b[0;36mrequest\u001b[0;34m(self, method, url, params, data, headers, cookies, files, auth, timeout, allow_redirects, proxies, hooks, stream, verify, cert, json)\u001b[0m\n\u001b[1;32m    587\u001b[0m         }\n\u001b[1;32m    588\u001b[0m         \u001b[0msend_kwargs\u001b[0m\u001b[0;34m.\u001b[0m\u001b[0mupdate\u001b[0m\u001b[0;34m(\u001b[0m\u001b[0msettings\u001b[0m\u001b[0;34m)\u001b[0m\u001b[0;34m\u001b[0m\u001b[0;34m\u001b[0m\u001b[0m\n\u001b[0;32m--> 589\u001b[0;31m         \u001b[0mresp\u001b[0m \u001b[0;34m=\u001b[0m \u001b[0mself\u001b[0m\u001b[0;34m.\u001b[0m\u001b[0msend\u001b[0m\u001b[0;34m(\u001b[0m\u001b[0mprep\u001b[0m\u001b[0;34m,\u001b[0m \u001b[0;34m**\u001b[0m\u001b[0msend_kwargs\u001b[0m\u001b[0;34m)\u001b[0m\u001b[0;34m\u001b[0m\u001b[0;34m\u001b[0m\u001b[0m\n\u001b[0m\u001b[1;32m    590\u001b[0m \u001b[0;34m\u001b[0m\u001b[0m\n\u001b[1;32m    591\u001b[0m         \u001b[0;32mreturn\u001b[0m \u001b[0mresp\u001b[0m\u001b[0;34m\u001b[0m\u001b[0;34m\u001b[0m\u001b[0m\n",
            "\u001b[0;32m/usr/local/lib/python3.10/dist-packages/requests/sessions.py\u001b[0m in \u001b[0;36msend\u001b[0;34m(self, request, **kwargs)\u001b[0m\n\u001b[1;32m    745\u001b[0m \u001b[0;34m\u001b[0m\u001b[0m\n\u001b[1;32m    746\u001b[0m         \u001b[0;32mif\u001b[0m \u001b[0;32mnot\u001b[0m \u001b[0mstream\u001b[0m\u001b[0;34m:\u001b[0m\u001b[0;34m\u001b[0m\u001b[0;34m\u001b[0m\u001b[0m\n\u001b[0;32m--> 747\u001b[0;31m             \u001b[0mr\u001b[0m\u001b[0;34m.\u001b[0m\u001b[0mcontent\u001b[0m\u001b[0;34m\u001b[0m\u001b[0;34m\u001b[0m\u001b[0m\n\u001b[0m\u001b[1;32m    748\u001b[0m \u001b[0;34m\u001b[0m\u001b[0m\n\u001b[1;32m    749\u001b[0m         \u001b[0;32mreturn\u001b[0m \u001b[0mr\u001b[0m\u001b[0;34m\u001b[0m\u001b[0;34m\u001b[0m\u001b[0m\n",
            "\u001b[0;32m/usr/local/lib/python3.10/dist-packages/requests/models.py\u001b[0m in \u001b[0;36mcontent\u001b[0;34m(self)\u001b[0m\n\u001b[1;32m    897\u001b[0m                 \u001b[0mself\u001b[0m\u001b[0;34m.\u001b[0m\u001b[0m_content\u001b[0m \u001b[0;34m=\u001b[0m \u001b[0;32mNone\u001b[0m\u001b[0;34m\u001b[0m\u001b[0;34m\u001b[0m\u001b[0m\n\u001b[1;32m    898\u001b[0m             \u001b[0;32melse\u001b[0m\u001b[0;34m:\u001b[0m\u001b[0;34m\u001b[0m\u001b[0;34m\u001b[0m\u001b[0m\n\u001b[0;32m--> 899\u001b[0;31m                 \u001b[0mself\u001b[0m\u001b[0;34m.\u001b[0m\u001b[0m_content\u001b[0m \u001b[0;34m=\u001b[0m \u001b[0;34mb\"\"\u001b[0m\u001b[0;34m.\u001b[0m\u001b[0mjoin\u001b[0m\u001b[0;34m(\u001b[0m\u001b[0mself\u001b[0m\u001b[0;34m.\u001b[0m\u001b[0miter_content\u001b[0m\u001b[0;34m(\u001b[0m\u001b[0mCONTENT_CHUNK_SIZE\u001b[0m\u001b[0;34m)\u001b[0m\u001b[0;34m)\u001b[0m \u001b[0;32mor\u001b[0m \u001b[0;34mb\"\"\u001b[0m\u001b[0;34m\u001b[0m\u001b[0;34m\u001b[0m\u001b[0m\n\u001b[0m\u001b[1;32m    900\u001b[0m \u001b[0;34m\u001b[0m\u001b[0m\n\u001b[1;32m    901\u001b[0m         \u001b[0mself\u001b[0m\u001b[0;34m.\u001b[0m\u001b[0m_content_consumed\u001b[0m \u001b[0;34m=\u001b[0m \u001b[0;32mTrue\u001b[0m\u001b[0;34m\u001b[0m\u001b[0;34m\u001b[0m\u001b[0m\n",
            "\u001b[0;32m/usr/local/lib/python3.10/dist-packages/requests/models.py\u001b[0m in \u001b[0;36mgenerate\u001b[0;34m()\u001b[0m\n\u001b[1;32m    814\u001b[0m             \u001b[0;32mif\u001b[0m \u001b[0mhasattr\u001b[0m\u001b[0;34m(\u001b[0m\u001b[0mself\u001b[0m\u001b[0;34m.\u001b[0m\u001b[0mraw\u001b[0m\u001b[0;34m,\u001b[0m \u001b[0;34m\"stream\"\u001b[0m\u001b[0;34m)\u001b[0m\u001b[0;34m:\u001b[0m\u001b[0;34m\u001b[0m\u001b[0;34m\u001b[0m\u001b[0m\n\u001b[1;32m    815\u001b[0m                 \u001b[0;32mtry\u001b[0m\u001b[0;34m:\u001b[0m\u001b[0;34m\u001b[0m\u001b[0;34m\u001b[0m\u001b[0m\n\u001b[0;32m--> 816\u001b[0;31m                     \u001b[0;32myield\u001b[0m \u001b[0;32mfrom\u001b[0m \u001b[0mself\u001b[0m\u001b[0;34m.\u001b[0m\u001b[0mraw\u001b[0m\u001b[0;34m.\u001b[0m\u001b[0mstream\u001b[0m\u001b[0;34m(\u001b[0m\u001b[0mchunk_size\u001b[0m\u001b[0;34m,\u001b[0m \u001b[0mdecode_content\u001b[0m\u001b[0;34m=\u001b[0m\u001b[0;32mTrue\u001b[0m\u001b[0;34m)\u001b[0m\u001b[0;34m\u001b[0m\u001b[0;34m\u001b[0m\u001b[0m\n\u001b[0m\u001b[1;32m    817\u001b[0m                 \u001b[0;32mexcept\u001b[0m \u001b[0mProtocolError\u001b[0m \u001b[0;32mas\u001b[0m \u001b[0me\u001b[0m\u001b[0;34m:\u001b[0m\u001b[0;34m\u001b[0m\u001b[0;34m\u001b[0m\u001b[0m\n\u001b[1;32m    818\u001b[0m                     \u001b[0;32mraise\u001b[0m \u001b[0mChunkedEncodingError\u001b[0m\u001b[0;34m(\u001b[0m\u001b[0me\u001b[0m\u001b[0;34m)\u001b[0m\u001b[0;34m\u001b[0m\u001b[0;34m\u001b[0m\u001b[0m\n",
            "\u001b[0;32m/usr/local/lib/python3.10/dist-packages/urllib3/response.py\u001b[0m in \u001b[0;36mstream\u001b[0;34m(self, amt, decode_content)\u001b[0m\n\u001b[1;32m    934\u001b[0m         \u001b[0;32melse\u001b[0m\u001b[0;34m:\u001b[0m\u001b[0;34m\u001b[0m\u001b[0;34m\u001b[0m\u001b[0m\n\u001b[1;32m    935\u001b[0m             \u001b[0;32mwhile\u001b[0m \u001b[0;32mnot\u001b[0m \u001b[0mis_fp_closed\u001b[0m\u001b[0;34m(\u001b[0m\u001b[0mself\u001b[0m\u001b[0;34m.\u001b[0m\u001b[0m_fp\u001b[0m\u001b[0;34m)\u001b[0m \u001b[0;32mor\u001b[0m \u001b[0mlen\u001b[0m\u001b[0;34m(\u001b[0m\u001b[0mself\u001b[0m\u001b[0;34m.\u001b[0m\u001b[0m_decoded_buffer\u001b[0m\u001b[0;34m)\u001b[0m \u001b[0;34m>\u001b[0m \u001b[0;36m0\u001b[0m\u001b[0;34m:\u001b[0m\u001b[0;34m\u001b[0m\u001b[0;34m\u001b[0m\u001b[0m\n\u001b[0;32m--> 936\u001b[0;31m                 \u001b[0mdata\u001b[0m \u001b[0;34m=\u001b[0m \u001b[0mself\u001b[0m\u001b[0;34m.\u001b[0m\u001b[0mread\u001b[0m\u001b[0;34m(\u001b[0m\u001b[0mamt\u001b[0m\u001b[0;34m=\u001b[0m\u001b[0mamt\u001b[0m\u001b[0;34m,\u001b[0m \u001b[0mdecode_content\u001b[0m\u001b[0;34m=\u001b[0m\u001b[0mdecode_content\u001b[0m\u001b[0;34m)\u001b[0m\u001b[0;34m\u001b[0m\u001b[0;34m\u001b[0m\u001b[0m\n\u001b[0m\u001b[1;32m    937\u001b[0m \u001b[0;34m\u001b[0m\u001b[0m\n\u001b[1;32m    938\u001b[0m                 \u001b[0;32mif\u001b[0m \u001b[0mdata\u001b[0m\u001b[0;34m:\u001b[0m\u001b[0;34m\u001b[0m\u001b[0;34m\u001b[0m\u001b[0m\n",
            "\u001b[0;32m/usr/local/lib/python3.10/dist-packages/urllib3/response.py\u001b[0m in \u001b[0;36mread\u001b[0;34m(self, amt, decode_content, cache_content)\u001b[0m\n\u001b[1;32m    877\u001b[0m                 \u001b[0;32mreturn\u001b[0m \u001b[0mself\u001b[0m\u001b[0;34m.\u001b[0m\u001b[0m_decoded_buffer\u001b[0m\u001b[0;34m.\u001b[0m\u001b[0mget\u001b[0m\u001b[0;34m(\u001b[0m\u001b[0mamt\u001b[0m\u001b[0;34m)\u001b[0m\u001b[0;34m\u001b[0m\u001b[0;34m\u001b[0m\u001b[0m\n\u001b[1;32m    878\u001b[0m \u001b[0;34m\u001b[0m\u001b[0m\n\u001b[0;32m--> 879\u001b[0;31m         \u001b[0mdata\u001b[0m \u001b[0;34m=\u001b[0m \u001b[0mself\u001b[0m\u001b[0;34m.\u001b[0m\u001b[0m_raw_read\u001b[0m\u001b[0;34m(\u001b[0m\u001b[0mamt\u001b[0m\u001b[0;34m)\u001b[0m\u001b[0;34m\u001b[0m\u001b[0;34m\u001b[0m\u001b[0m\n\u001b[0m\u001b[1;32m    880\u001b[0m \u001b[0;34m\u001b[0m\u001b[0m\n\u001b[1;32m    881\u001b[0m         \u001b[0mflush_decoder\u001b[0m \u001b[0;34m=\u001b[0m \u001b[0mamt\u001b[0m \u001b[0;32mis\u001b[0m \u001b[0;32mNone\u001b[0m \u001b[0;32mor\u001b[0m \u001b[0;34m(\u001b[0m\u001b[0mamt\u001b[0m \u001b[0;34m!=\u001b[0m \u001b[0;36m0\u001b[0m \u001b[0;32mand\u001b[0m \u001b[0;32mnot\u001b[0m \u001b[0mdata\u001b[0m\u001b[0;34m)\u001b[0m\u001b[0;34m\u001b[0m\u001b[0;34m\u001b[0m\u001b[0m\n",
            "\u001b[0;32m/usr/local/lib/python3.10/dist-packages/urllib3/response.py\u001b[0m in \u001b[0;36m_raw_read\u001b[0;34m(self, amt)\u001b[0m\n\u001b[1;32m    812\u001b[0m \u001b[0;34m\u001b[0m\u001b[0m\n\u001b[1;32m    813\u001b[0m         \u001b[0;32mwith\u001b[0m \u001b[0mself\u001b[0m\u001b[0;34m.\u001b[0m\u001b[0m_error_catcher\u001b[0m\u001b[0;34m(\u001b[0m\u001b[0;34m)\u001b[0m\u001b[0;34m:\u001b[0m\u001b[0;34m\u001b[0m\u001b[0;34m\u001b[0m\u001b[0m\n\u001b[0;32m--> 814\u001b[0;31m             \u001b[0mdata\u001b[0m \u001b[0;34m=\u001b[0m \u001b[0mself\u001b[0m\u001b[0;34m.\u001b[0m\u001b[0m_fp_read\u001b[0m\u001b[0;34m(\u001b[0m\u001b[0mamt\u001b[0m\u001b[0;34m)\u001b[0m \u001b[0;32mif\u001b[0m \u001b[0;32mnot\u001b[0m \u001b[0mfp_closed\u001b[0m \u001b[0;32melse\u001b[0m \u001b[0;34mb\"\"\u001b[0m\u001b[0;34m\u001b[0m\u001b[0;34m\u001b[0m\u001b[0m\n\u001b[0m\u001b[1;32m    815\u001b[0m             \u001b[0;32mif\u001b[0m \u001b[0mamt\u001b[0m \u001b[0;32mis\u001b[0m \u001b[0;32mnot\u001b[0m \u001b[0;32mNone\u001b[0m \u001b[0;32mand\u001b[0m \u001b[0mamt\u001b[0m \u001b[0;34m!=\u001b[0m \u001b[0;36m0\u001b[0m \u001b[0;32mand\u001b[0m \u001b[0;32mnot\u001b[0m \u001b[0mdata\u001b[0m\u001b[0;34m:\u001b[0m\u001b[0;34m\u001b[0m\u001b[0;34m\u001b[0m\u001b[0m\n\u001b[1;32m    816\u001b[0m                 \u001b[0;31m# Platform-specific: Buggy versions of Python.\u001b[0m\u001b[0;34m\u001b[0m\u001b[0;34m\u001b[0m\u001b[0m\n",
            "\u001b[0;32m/usr/local/lib/python3.10/dist-packages/urllib3/response.py\u001b[0m in \u001b[0;36m_fp_read\u001b[0;34m(self, amt)\u001b[0m\n\u001b[1;32m    797\u001b[0m         \u001b[0;32melse\u001b[0m\u001b[0;34m:\u001b[0m\u001b[0;34m\u001b[0m\u001b[0;34m\u001b[0m\u001b[0m\n\u001b[1;32m    798\u001b[0m             \u001b[0;31m# StringIO doesn't like amt=None\u001b[0m\u001b[0;34m\u001b[0m\u001b[0;34m\u001b[0m\u001b[0m\n\u001b[0;32m--> 799\u001b[0;31m             \u001b[0;32mreturn\u001b[0m \u001b[0mself\u001b[0m\u001b[0;34m.\u001b[0m\u001b[0m_fp\u001b[0m\u001b[0;34m.\u001b[0m\u001b[0mread\u001b[0m\u001b[0;34m(\u001b[0m\u001b[0mamt\u001b[0m\u001b[0;34m)\u001b[0m \u001b[0;32mif\u001b[0m \u001b[0mamt\u001b[0m \u001b[0;32mis\u001b[0m \u001b[0;32mnot\u001b[0m \u001b[0;32mNone\u001b[0m \u001b[0;32melse\u001b[0m \u001b[0mself\u001b[0m\u001b[0;34m.\u001b[0m\u001b[0m_fp\u001b[0m\u001b[0;34m.\u001b[0m\u001b[0mread\u001b[0m\u001b[0;34m(\u001b[0m\u001b[0;34m)\u001b[0m\u001b[0;34m\u001b[0m\u001b[0;34m\u001b[0m\u001b[0m\n\u001b[0m\u001b[1;32m    800\u001b[0m \u001b[0;34m\u001b[0m\u001b[0m\n\u001b[1;32m    801\u001b[0m     def _raw_read(\n",
            "\u001b[0;32m/usr/lib/python3.10/http/client.py\u001b[0m in \u001b[0;36mread\u001b[0;34m(self, amt)\u001b[0m\n\u001b[1;32m    464\u001b[0m                 \u001b[0;31m# clip the read to the \"end of response\"\u001b[0m\u001b[0;34m\u001b[0m\u001b[0;34m\u001b[0m\u001b[0m\n\u001b[1;32m    465\u001b[0m                 \u001b[0mamt\u001b[0m \u001b[0;34m=\u001b[0m \u001b[0mself\u001b[0m\u001b[0;34m.\u001b[0m\u001b[0mlength\u001b[0m\u001b[0;34m\u001b[0m\u001b[0;34m\u001b[0m\u001b[0m\n\u001b[0;32m--> 466\u001b[0;31m             \u001b[0ms\u001b[0m \u001b[0;34m=\u001b[0m \u001b[0mself\u001b[0m\u001b[0;34m.\u001b[0m\u001b[0mfp\u001b[0m\u001b[0;34m.\u001b[0m\u001b[0mread\u001b[0m\u001b[0;34m(\u001b[0m\u001b[0mamt\u001b[0m\u001b[0;34m)\u001b[0m\u001b[0;34m\u001b[0m\u001b[0;34m\u001b[0m\u001b[0m\n\u001b[0m\u001b[1;32m    467\u001b[0m             \u001b[0;32mif\u001b[0m \u001b[0;32mnot\u001b[0m \u001b[0ms\u001b[0m \u001b[0;32mand\u001b[0m \u001b[0mamt\u001b[0m\u001b[0;34m:\u001b[0m\u001b[0;34m\u001b[0m\u001b[0;34m\u001b[0m\u001b[0m\n\u001b[1;32m    468\u001b[0m                 \u001b[0;31m# Ideally, we would raise IncompleteRead if the content-length\u001b[0m\u001b[0;34m\u001b[0m\u001b[0;34m\u001b[0m\u001b[0m\n",
            "\u001b[0;32m/usr/lib/python3.10/socket.py\u001b[0m in \u001b[0;36mreadinto\u001b[0;34m(self, b)\u001b[0m\n\u001b[1;32m    703\u001b[0m         \u001b[0;32mwhile\u001b[0m \u001b[0;32mTrue\u001b[0m\u001b[0;34m:\u001b[0m\u001b[0;34m\u001b[0m\u001b[0;34m\u001b[0m\u001b[0m\n\u001b[1;32m    704\u001b[0m             \u001b[0;32mtry\u001b[0m\u001b[0;34m:\u001b[0m\u001b[0;34m\u001b[0m\u001b[0;34m\u001b[0m\u001b[0m\n\u001b[0;32m--> 705\u001b[0;31m                 \u001b[0;32mreturn\u001b[0m \u001b[0mself\u001b[0m\u001b[0;34m.\u001b[0m\u001b[0m_sock\u001b[0m\u001b[0;34m.\u001b[0m\u001b[0mrecv_into\u001b[0m\u001b[0;34m(\u001b[0m\u001b[0mb\u001b[0m\u001b[0;34m)\u001b[0m\u001b[0;34m\u001b[0m\u001b[0;34m\u001b[0m\u001b[0m\n\u001b[0m\u001b[1;32m    706\u001b[0m             \u001b[0;32mexcept\u001b[0m \u001b[0mtimeout\u001b[0m\u001b[0;34m:\u001b[0m\u001b[0;34m\u001b[0m\u001b[0;34m\u001b[0m\u001b[0m\n\u001b[1;32m    707\u001b[0m                 \u001b[0mself\u001b[0m\u001b[0;34m.\u001b[0m\u001b[0m_timeout_occurred\u001b[0m \u001b[0;34m=\u001b[0m \u001b[0;32mTrue\u001b[0m\u001b[0;34m\u001b[0m\u001b[0;34m\u001b[0m\u001b[0m\n",
            "\u001b[0;32m/usr/lib/python3.10/ssl.py\u001b[0m in \u001b[0;36mrecv_into\u001b[0;34m(self, buffer, nbytes, flags)\u001b[0m\n\u001b[1;32m   1301\u001b[0m                   \u001b[0;34m\"non-zero flags not allowed in calls to recv_into() on %s\"\u001b[0m \u001b[0;34m%\u001b[0m\u001b[0;34m\u001b[0m\u001b[0;34m\u001b[0m\u001b[0m\n\u001b[1;32m   1302\u001b[0m                   self.__class__)\n\u001b[0;32m-> 1303\u001b[0;31m             \u001b[0;32mreturn\u001b[0m \u001b[0mself\u001b[0m\u001b[0;34m.\u001b[0m\u001b[0mread\u001b[0m\u001b[0;34m(\u001b[0m\u001b[0mnbytes\u001b[0m\u001b[0;34m,\u001b[0m \u001b[0mbuffer\u001b[0m\u001b[0;34m)\u001b[0m\u001b[0;34m\u001b[0m\u001b[0;34m\u001b[0m\u001b[0m\n\u001b[0m\u001b[1;32m   1304\u001b[0m         \u001b[0;32melse\u001b[0m\u001b[0;34m:\u001b[0m\u001b[0;34m\u001b[0m\u001b[0;34m\u001b[0m\u001b[0m\n\u001b[1;32m   1305\u001b[0m             \u001b[0;32mreturn\u001b[0m \u001b[0msuper\u001b[0m\u001b[0;34m(\u001b[0m\u001b[0;34m)\u001b[0m\u001b[0;34m.\u001b[0m\u001b[0mrecv_into\u001b[0m\u001b[0;34m(\u001b[0m\u001b[0mbuffer\u001b[0m\u001b[0;34m,\u001b[0m \u001b[0mnbytes\u001b[0m\u001b[0;34m,\u001b[0m \u001b[0mflags\u001b[0m\u001b[0;34m)\u001b[0m\u001b[0;34m\u001b[0m\u001b[0;34m\u001b[0m\u001b[0m\n",
            "\u001b[0;32m/usr/lib/python3.10/ssl.py\u001b[0m in \u001b[0;36mread\u001b[0;34m(self, len, buffer)\u001b[0m\n\u001b[1;32m   1157\u001b[0m         \u001b[0;32mtry\u001b[0m\u001b[0;34m:\u001b[0m\u001b[0;34m\u001b[0m\u001b[0;34m\u001b[0m\u001b[0m\n\u001b[1;32m   1158\u001b[0m             \u001b[0;32mif\u001b[0m \u001b[0mbuffer\u001b[0m \u001b[0;32mis\u001b[0m \u001b[0;32mnot\u001b[0m \u001b[0;32mNone\u001b[0m\u001b[0;34m:\u001b[0m\u001b[0;34m\u001b[0m\u001b[0;34m\u001b[0m\u001b[0m\n\u001b[0;32m-> 1159\u001b[0;31m                 \u001b[0;32mreturn\u001b[0m \u001b[0mself\u001b[0m\u001b[0;34m.\u001b[0m\u001b[0m_sslobj\u001b[0m\u001b[0;34m.\u001b[0m\u001b[0mread\u001b[0m\u001b[0;34m(\u001b[0m\u001b[0mlen\u001b[0m\u001b[0;34m,\u001b[0m \u001b[0mbuffer\u001b[0m\u001b[0;34m)\u001b[0m\u001b[0;34m\u001b[0m\u001b[0;34m\u001b[0m\u001b[0m\n\u001b[0m\u001b[1;32m   1160\u001b[0m             \u001b[0;32melse\u001b[0m\u001b[0;34m:\u001b[0m\u001b[0;34m\u001b[0m\u001b[0;34m\u001b[0m\u001b[0m\n\u001b[1;32m   1161\u001b[0m                 \u001b[0;32mreturn\u001b[0m \u001b[0mself\u001b[0m\u001b[0;34m.\u001b[0m\u001b[0m_sslobj\u001b[0m\u001b[0;34m.\u001b[0m\u001b[0mread\u001b[0m\u001b[0;34m(\u001b[0m\u001b[0mlen\u001b[0m\u001b[0;34m)\u001b[0m\u001b[0;34m\u001b[0m\u001b[0;34m\u001b[0m\u001b[0m\n",
            "\u001b[0;31mKeyboardInterrupt\u001b[0m: "
          ]
        }
      ],
      "source": [
        "# import os\n",
        "# import requests\n",
        "# import zipfile\n",
        "\n",
        "# # Function to download and extract the dataset\n",
        "# def download_quickdraw_dataset(categories, save_path):\n",
        "#     # Base URL for downloading the dataset\n",
        "#     base_url = \"https://storage.googleapis.com/quickdraw_dataset/full/numpy_bitmap\"\n",
        "\n",
        "#     # Create the save directory if it doesn't exist\n",
        "#     if not os.path.exists(save_path):\n",
        "#         os.makedirs(save_path)\n",
        "\n",
        "#     # Download and extract each category\n",
        "#     for category in categories:\n",
        "#         category_url = f\"{base_url}/{category}.npy\"\n",
        "#         save_file = os.path.join(save_path, f\"{category}.npy\")\n",
        "\n",
        "#         # Download the file\n",
        "#         response = requests.get(category_url)\n",
        "#         with open(save_file, \"wb\") as f:\n",
        "#             f.write(response.content)\n",
        "\n",
        "#         print(f\"Downloaded: {category}.npy\")\n",
        "\n",
        "# # Example usage\n",
        "# classes = [\"airplane\", \"ambulance\", \"angel\", \"ant\", \"anvil\", \"apple\", \"arm\", \"asparagus\", \"axe\", \"backpack\", \"banana\", \"bandage\", \"barn\", \"baseball\", \"basket\", \"basketball\", \"bat\", \"bathtub\", \"beach\", \"bear\", \"beard\", \"bed\", \"bee\", \"belt\", \"bench\", \"bicycle\", \"binoculars\", \"bird\", \"birthday cake\", \"blackberry\", \"blueberry\", \"book\", \"boomerang\", \"bottlecap\", \"bowtie\", \"bracelet\", \"brain\", \"bread\", \"bridge\", \"broccoli\", \"broom\", \"bucket\", \"bulldozer\", \"bus\", \"bush\", \"butterfly\", \"cactus\", \"cake\", \"calculator\", \"calendar\", \"camel\", \"camera\", \"camouflage\", \"campfire\", \"candle\", \"cannon\", \"canoe\", \"car\", \"carrot\", \"castle\", \"cat\", \"cello\", \"chair\", \"chandelier\", \"church\", \"circle\", \"clarinet\", \"clock\", \"cloud\", \"coffee cup\", \"compass\", \"computer\", \"cookie\", \"cooler\", \"couch\", \"cow\", \"crab\", \"crayon\", \"crocodile\", \"crown\", \"cup\", \"diamond\", \"dishwasher\", \"dog\", \"dolphin\", \"donut\", \"door\", \"dragon\", \"dresser\", \"drill\", \"drums\", \"duck\", \"dumbbell\", \"ear\", \"elbow\", \"elephant\", \"envelope\", \"eraser\", \"eye\", \"eyeglasses\", \"face\", \"fan\", \"feather\", \"fence\", \"finger\", \"fireplace\", \"firetruck\", \"fish\", \"flamingo\", \"flashlight\", \"flower\", \"foot\", \"fork\", \"frog\", \"garden\", \"giraffe\", \"goatee\", \"grapes\", \"grass\", \"guitar\", \"hamburger\", \"hammer\", \"hand\", \"harp\", \"hat\", \"headphones\", \"hedgehog\", \"helicopter\", \"helmet\", \"hexagon\", \"hockey stick\", \"horse\", \"hospital\", \"hourglass\", \"house\", \"hurricane\", \"jacket\", \"jail\", \"kangaroo\", \"key\", \"keyboard\", \"knee\", \"knife\", \"ladder\", \"lantern\", \"laptop\", \"leaf\", \"leg\", \"lighter\", \"lighthouse\", \"lightning\", \"line\", \"lion\", \"lipstick\", \"lobster\", \"lollipop\", \"mailbox\", \"map\", \"marker\", \"matches\", \"megaphone\", \"mermaid\", \"microphone\", \"microwave\", \"monkey\", \"moon\", \"mosquito\", \"motorbike\", \"mountain\", \"mouse\", \"moustache\", \"mouth\", \"mug\", \"mushroom\", \"nail\", \"necklace\", \"nose\", \"ocean\", \"octagon\", \"octopus\", \"onion\", \"oven\", \"owl\", \"paintbrush\", \"paint can\", \"palm tree\", \"panda\", \"pants\", \"parachute\", \"parrot\", \"passport\", \"peanut\", \"pear\", \"peas\", \"pencil\", \"penguin\", \"piano\", \"pig\", \"pillow\", \"pineapple\", \"pizza\", \"pliers\", \"pond\", \"pool\", \"popsicle\", \"postcard\", \"potato\", \"purse\", \"rabbit\", \"raccoon\", \"radio\", \"rain\", \"rainbow\", \"rake\", \"rhinoceros\", \"rifle\", \"river\", \"rollerskates\", \"sailboat\", \"sandwich\", \"saw\", \"saxophone\", \"school bus\", \"scissors\", \"scorpion\", \"screwdriver\", \"sea turtle\", \"shark\", \"sheep\", \"shoe\", \"shorts\", \"shovel\", \"sink\", \"skateboard\", \"skull\", \"skyscraper\", \"smiley face\", \"snail\", \"snake\", \"snorkel\", \"snowflake\", \"snowman\", \"sock\", \"speedboat\", \"spider\", \"spoon\", \"spreadsheet\", \"square\", \"squiggle\", \"squirrel\", \"stairs\", \"star\", \"steak\", \"stereo\", \"stethoscope\", \"stitches\", \"stove\", \"strawberry\", \"streetlight\", \"string bean\", \"submarine\", \"suitcase\", \"sun\", \"swan\", \"sweater\", \"swing set\", \"sword\", \"syringe\", \"table\", \"teapot\", \"teddy-bear\", \"telephone\", \"television\", \"tennis racquet\", \"tent\", \"The Eiffel Tower\", \"The Great Wall of China\", \"The Mona Lisa\", \"tiger\", \"toaster\", \"toe\", \"toilet\", \"tooth\", \"toothbrush\", \"toothpaste\", \"tornado\", \"tractor\", \"traffic light\", \"train\", \"tree\", \"triangle\", \"trombone\", \"truck\", \"trumpet\", \"t-shirt\", \"umbrella\", \"underwear\", \"van\", \"vase\", \"violin\", \"washing machine\", \"watermelon\", \"waterslide\", \"whale\", \"wheel\", \"windmill\", \"wine bottle\", \"wine glass\", \"wristwatch\", \"yoga\", \"zebra\", \"zigzag\"]\n",
        "\n",
        "# categories_to_download = classes[:100]  # Specify the categories you want to download\n",
        "# save_directory = \"/content/drive/MyDrive/CV_Datasets/Quick_Draw/\"  # Specify where you want to save the data\n",
        "\n",
        "# download_quickdraw_dataset(categories_to_download, save_directory)\n"
      ]
    },
    {
      "cell_type": "code",
      "execution_count": null,
      "metadata": {
        "id": "UlgbYrCBqg30"
      },
      "outputs": [],
      "source": [
        "data_sets = glob.glob(os.path.join('/content/drive/MyDrive/CV_Datasets/Quick_Draw/*.npy'))\n",
        "print(len(data_sets))\n",
        "data_sets = data_sets[:20]"
      ]
    },
    {
      "cell_type": "code",
      "execution_count": null,
      "metadata": {
        "id": "l020q8TeCs_i"
      },
      "outputs": [],
      "source": [
        "data_sets"
      ]
    },
    {
      "cell_type": "markdown",
      "metadata": {
        "id": "mDU1YwgaoX8A"
      },
      "source": [
        "## Loading and Preprocessing Dataset\n"
      ]
    },
    {
      "cell_type": "markdown",
      "metadata": {
        "id": "ZhpdCbAJoZnz"
      },
      "source": [
        "###Loading the data"
      ]
    },
    {
      "cell_type": "code",
      "source": [
        "# Updated\n",
        "\n",
        "classes = [\"airplane\", \"ambulance\", \"angel\", \"ant\", \"anvil\", \"apple\", \"arm\", \"asparagus\", \"axe\", \"backpack\", \"banana\", \"bandage\", \"barn\", \"baseball\", \"basket\", \"basketball\", \"bat\", \"bathtub\", \"beach\", \"bear\", \"beard\", \"bed\", \"bee\", \"belt\", \"bench\", \"bicycle\", \"binoculars\", \"bird\", \"birthday cake\", \"blackberry\", \"blueberry\", \"book\", \"boomerang\", \"bottlecap\", \"bowtie\", \"bracelet\", \"brain\", \"bread\", \"bridge\", \"broccoli\", \"broom\", \"bucket\", \"bulldozer\", \"bus\", \"bush\", \"butterfly\", \"cactus\", \"cake\", \"calculator\", \"calendar\", \"camel\", \"camera\", \"camouflage\", \"campfire\", \"candle\", \"cannon\", \"canoe\", \"car\", \"carrot\", \"castle\", \"cat\", \"cello\", \"chair\", \"chandelier\", \"church\", \"circle\", \"clarinet\", \"clock\", \"cloud\", \"coffee cup\", \"compass\", \"computer\", \"cookie\", \"cooler\", \"couch\", \"cow\", \"crab\", \"crayon\", \"crocodile\", \"crown\", \"cup\", \"diamond\", \"dishwasher\", \"dog\", \"dolphin\", \"donut\", \"door\", \"dragon\", \"dresser\", \"drill\", \"drums\", \"duck\", \"dumbbell\", \"ear\", \"elbow\", \"elephant\", \"envelope\", \"eraser\", \"eye\", \"eyeglasses\", \"face\", \"fan\", \"feather\", \"fence\", \"finger\", \"fireplace\", \"firetruck\", \"fish\", \"flamingo\", \"flashlight\", \"flower\", \"foot\", \"fork\", \"frog\", \"garden\", \"giraffe\", \"goatee\", \"grapes\", \"grass\", \"guitar\", \"hamburger\", \"hammer\", \"hand\", \"harp\", \"hat\", \"headphones\", \"hedgehog\", \"helicopter\", \"helmet\", \"hexagon\", \"hockey stick\", \"horse\", \"hospital\", \"hourglass\", \"house\", \"hurricane\", \"jacket\", \"jail\", \"kangaroo\", \"key\", \"keyboard\", \"knee\", \"knife\", \"ladder\", \"lantern\", \"laptop\", \"leaf\", \"leg\", \"lighter\", \"lighthouse\", \"lightning\", \"line\", \"lion\", \"lipstick\", \"lobster\", \"lollipop\", \"mailbox\", \"map\", \"marker\", \"matches\", \"megaphone\", \"mermaid\", \"microphone\", \"microwave\", \"monkey\", \"moon\", \"mosquito\", \"motorbike\", \"mountain\", \"mouse\", \"moustache\", \"mouth\", \"mug\", \"mushroom\", \"nail\", \"necklace\", \"nose\", \"ocean\", \"octagon\", \"octopus\", \"onion\", \"oven\", \"owl\", \"paintbrush\", \"paint can\", \"palm tree\", \"panda\", \"pants\", \"parachute\", \"parrot\", \"passport\", \"peanut\", \"pear\", \"peas\", \"pencil\", \"penguin\", \"piano\", \"pig\", \"pillow\", \"pineapple\", \"pizza\", \"pliers\", \"pond\", \"pool\", \"popsicle\", \"postcard\", \"potato\", \"purse\", \"rabbit\", \"raccoon\", \"radio\", \"rain\", \"rainbow\", \"rake\", \"rhinoceros\", \"rifle\", \"river\", \"rollerskates\", \"sailboat\", \"sandwich\", \"saw\", \"saxophone\", \"school bus\", \"scissors\", \"scorpion\", \"screwdriver\", \"sea turtle\", \"shark\", \"sheep\", \"shoe\", \"shorts\", \"shovel\", \"sink\", \"skateboard\", \"skull\", \"skyscraper\", \"smiley face\", \"snail\", \"snake\", \"snorkel\", \"snowflake\", \"snowman\", \"sock\", \"speedboat\", \"spider\", \"spoon\", \"spreadsheet\", \"square\", \"squiggle\", \"squirrel\", \"stairs\", \"star\", \"steak\", \"stereo\", \"stethoscope\", \"stitches\", \"stove\", \"strawberry\", \"streetlight\", \"string bean\", \"submarine\", \"suitcase\", \"sun\", \"swan\", \"sweater\", \"swing set\", \"sword\", \"syringe\", \"table\", \"teapot\", \"teddy-bear\", \"telephone\", \"television\", \"tennis racquet\", \"tent\", \"The Eiffel Tower\", \"The Great Wall of China\", \"The Mona Lisa\", \"tiger\", \"toaster\", \"toe\", \"toilet\", \"tooth\", \"toothbrush\", \"toothpaste\", \"tornado\", \"tractor\", \"traffic light\", \"train\", \"tree\", \"triangle\", \"trombone\", \"truck\", \"trumpet\", \"t-shirt\", \"umbrella\", \"underwear\", \"van\", \"vase\", \"violin\", \"washing machine\", \"watermelon\", \"waterslide\", \"whale\", \"wheel\", \"windmill\", \"wine bottle\", \"wine glass\", \"wristwatch\", \"yoga\", \"zebra\", \"zigzag\"]\n",
        "\n",
        "from sklearn.model_selection import train_test_split\n",
        "\n",
        "dataset_path = '/content/drive/MyDrive/CV_Datasets/Quick_Draw'\n",
        "selected_classes = classes[:20]\n",
        "print(selected_classes)\n",
        "train_data = []\n",
        "test_data = []\n",
        "test_labels = []\n",
        "train_labels = []\n",
        "split_ratio = 0.8\n",
        "\n",
        "for class_name in os.listdir(dataset_path)[:20]:\n",
        "    file_path = os.path.join(dataset_path, class_name)\n",
        "    class_data = np.load(file_path)[:1000]  # selecting only 6000 images for each class\n",
        "    num_samples = class_data.shape[0]\n",
        "\n",
        "    # Create labels for the class\n",
        "    class_labels = np.full((num_samples,), selected_classes.index(class_name.split('.')[0]))\n",
        "\n",
        "    # Split the data into train and test sets\n",
        "    X_train, X_test, y_train, y_test = train_test_split(\n",
        "        class_data, class_labels, train_size=split_ratio, random_state=96)\n",
        "\n",
        "    # Append the train and test data and labels to the respective lists\n",
        "    train_data.append(X_train)\n",
        "    test_data.append(X_test)\n",
        "    train_labels.append(y_train)\n",
        "    test_labels.append(y_test)\n",
        "\n",
        "# Concatenate the train and test data and labels for all classes\n",
        "x_train = np.concatenate(train_data)\n",
        "x_test = np.concatenate(test_data)\n",
        "y_train = np.concatenate(train_labels)\n",
        "y_test = np.concatenate(test_labels)\n",
        "print(\"total Train images: \", x_train.shape[0])\n",
        "print(\"total Test images: \", x_test.shape[0])"
      ],
      "metadata": {
        "colab": {
          "base_uri": "https://localhost:8080/"
        },
        "id": "dP9o0TdurLah",
        "outputId": "813cdf76-5c5f-40ff-e4dc-d6faa6eacaa8"
      },
      "execution_count": null,
      "outputs": [
        {
          "output_type": "stream",
          "name": "stdout",
          "text": [
            "['airplane', 'ambulance', 'angel', 'ant', 'anvil', 'apple', 'arm', 'asparagus', 'axe', 'backpack', 'banana', 'bandage', 'barn', 'baseball', 'basket', 'basketball', 'bat', 'bathtub', 'beach', 'bear']\n",
            "total Train images:  16000\n",
            "total Test images:  4000\n"
          ]
        }
      ]
    },
    {
      "cell_type": "code",
      "execution_count": null,
      "metadata": {
        "colab": {
          "base_uri": "https://localhost:8080/"
        },
        "id": "X2AgWepGq0Pg",
        "outputId": "b54807ec-81da-41a1-94a2-d795d16ef6c5"
      },
      "outputs": [
        {
          "output_type": "stream",
          "name": "stdout",
          "text": [
            "(16000, 784)\n"
          ]
        }
      ],
      "source": [
        "print(x_train.shape)"
      ]
    },
    {
      "cell_type": "code",
      "execution_count": null,
      "metadata": {
        "id": "XyISdELtq-GS"
      },
      "outputs": [],
      "source": [
        "image_size = 28\n",
        "x_train_reshaped = x_train.reshape(x_train.shape[0], image_size, image_size)\n",
        "x_test_reshaped = x_test.reshape(x_test.shape[0], image_size, image_size)\n"
      ]
    },
    {
      "cell_type": "code",
      "execution_count": null,
      "metadata": {
        "colab": {
          "base_uri": "https://localhost:8080/",
          "height": 1000
        },
        "id": "VX6hd4y5sU-P",
        "outputId": "80055f4b-cbb8-4d2c-bb78-c0af55828f5b"
      },
      "outputs": [
        {
          "output_type": "display_data",
          "data": {
            "text/plain": [
              "<Figure size 640x480 with 1 Axes>"
            ],
            "image/png": "[encoded data removed]"
          },
          "metadata": {}
        },
        {
          "output_type": "display_data",
          "data": {
            "text/plain": [
              "<Figure size 640x480 with 1 Axes>"
            ],
            "image/png": "[encoded data removed]"
          },
          "metadata": {}
        },
        {
          "output_type": "display_data",
          "data": {
            "text/plain": [
              "<Figure size 640x480 with 1 Axes>"
            ],
            "image/png": "[encoded data removed]"
          },
          "metadata": {}
        },
        {
          "output_type": "display_data",
          "data": {
            "text/plain": [
              "<Figure size 640x480 with 1 Axes>"
            ],
            "image/png": "[encoded data removed]"
          },
          "metadata": {}
        },
        {
          "output_type": "display_data",
          "data": {
            "text/plain": [
              "<Figure size 640x480 with 1 Axes>"
            ],
            "image/png": "[encoded data removed]"
          },
          "metadata": {}
        },
        {
          "output_type": "display_data",
          "data": {
            "text/plain": [
              "<Figure size 640x480 with 1 Axes>"
            ],
            "image/png": "[encoded data removed]"
          },
          "metadata": {}
        },
        {
          "output_type": "display_data",
          "data": {
            "text/plain": [
              "<Figure size 640x480 with 1 Axes>"
            ],
            "image/png": "[encoded data removed]"
          },
          "metadata": {}
        },
        {
          "output_type": "display_data",
          "data": {
            "text/plain": [
              "<Figure size 640x480 with 1 Axes>"
            ],
            "image/png": "[encoded data removed]"
          },
          "metadata": {}
        },
        {
          "output_type": "display_data",
          "data": {
            "text/plain": [
              "<Figure size 640x480 with 1 Axes>"
            ],
            "image/png": "[encoded data removed]"
          },
          "metadata": {}
        },
        {
          "output_type": "display_data",
          "data": {
            "text/plain": [
              "<Figure size 640x480 with 1 Axes>"
            ],
            "image/png": "[encoded data removed]"
          },
          "metadata": {}
        },
        {
          "output_type": "display_data",
          "data": {
            "text/plain": [
              "<Figure size 640x480 with 1 Axes>"
            ],
            "image/png": "[encoded data removed]"
          },
          "metadata": {}
        },
        {
          "output_type": "display_data",
          "data": {
            "text/plain": [
              "<Figure size 640x480 with 1 Axes>"
            ],
            "image/png": "[encoded data removed]"
          },
          "metadata": {}
        },
        {
          "output_type": "display_data",
          "data": {
            "text/plain": [
              "<Figure size 640x480 with 1 Axes>"
            ],
            "image/png": "[encoded data removed]"
          },
          "metadata": {}
        },
        {
          "output_type": "display_data",
          "data": {
            "text/plain": [
              "<Figure size 640x480 with 1 Axes>"
            ],
            "image/png": "[encoded data removed]"
          },
          "metadata": {}
        },
        {
          "output_type": "display_data",
          "data": {
            "text/plain": [
              "<Figure size 640x480 with 1 Axes>"
            ],
            "image/png": "[encoded data removed]"
          },
          "metadata": {}
        },
        {
          "output_type": "display_data",
          "data": {
            "text/plain": [
              "<Figure size 640x480 with 1 Axes>"
            ],
            "image/png": "[encoded data removed]"
          },
          "metadata": {}
        }
      ],
      "source": [
        "for i in range(16):\n",
        "  plt.grid(False)\n",
        "  plt.imshow(x_train_reshaped[i], cmap=plt.cm.binary)\n",
        "  plt.show()"
      ]
    },
    {
      "cell_type": "code",
      "execution_count": null,
      "metadata": {
        "colab": {
          "base_uri": "https://localhost:8080/"
        },
        "id": "RPlMJe7QrZPH",
        "outputId": "981aa656-ef17-4fec-da72-ec8f18b640ce"
      },
      "outputs": [
        {
          "output_type": "stream",
          "name": "stdout",
          "text": [
            "(28, 28)\n"
          ]
        }
      ],
      "source": [
        "print(x_train_reshaped[0].shape)"
      ]
    },
    {
      "cell_type": "code",
      "execution_count": null,
      "metadata": {
        "colab": {
          "base_uri": "https://localhost:8080/"
        },
        "id": "WUjC7yb6xiJI",
        "outputId": "86b48736-25cf-4a66-a48d-567d69ca5e30"
      },
      "outputs": [
        {
          "output_type": "execute_result",
          "data": {
            "text/plain": [
              "28"
            ]
          },
          "metadata": {},
          "execution_count": 11
        }
      ],
      "source": [
        "len(x_train_reshaped[34])"
      ]
    },
    {
      "cell_type": "code",
      "execution_count": null,
      "metadata": {
        "colab": {
          "base_uri": "https://localhost:8080/"
        },
        "id": "0B-pAwlEydeD",
        "outputId": "f6ff63d4-62d0-4404-e5d0-29ac7a1efdc4"
      },
      "outputs": [
        {
          "output_type": "execute_result",
          "data": {
            "text/plain": [
              "True"
            ]
          },
          "metadata": {},
          "execution_count": 12
        }
      ],
      "source": [
        "cv2.imwrite('color_img.jpg', x_train_reshaped[10])"
      ]
    },
    {
      "cell_type": "code",
      "execution_count": null,
      "metadata": {
        "id": "NebZwh4Yym4z"
      },
      "outputs": [],
      "source": [
        "x=cv2.imread(\"color_img.jpg\", cv2.IMREAD_GRAYSCALE)"
      ]
    },
    {
      "cell_type": "code",
      "execution_count": null,
      "metadata": {
        "id": "1asqg67XtqrR"
      },
      "outputs": [],
      "source": [
        "image = cv2.imdecode(x_train_reshaped[0][0], cv2.IMREAD_GRAYSCALE)"
      ]
    },
    {
      "cell_type": "code",
      "execution_count": null,
      "metadata": {
        "colab": {
          "base_uri": "https://localhost:8080/"
        },
        "id": "uMwmao7UzCKY",
        "outputId": "8aa8a049-56ef-40a1-8510-1a3478e9aad3"
      },
      "outputs": [
        {
          "output_type": "execute_result",
          "data": {
            "text/plain": [
              "(28, 28)"
            ]
          },
          "metadata": {},
          "execution_count": 15
        }
      ],
      "source": [
        "(x.shape)"
      ]
    },
    {
      "cell_type": "code",
      "execution_count": null,
      "metadata": {
        "colab": {
          "base_uri": "https://localhost:8080/",
          "height": 62
        },
        "id": "jPkRnQ37srym",
        "outputId": "b38e0671-899a-415d-b07f-549023a9858e"
      },
      "outputs": [
        {
          "output_type": "display_data",
          "data": {
            "text/plain": [
              "<PIL.Image.Image image mode=L size=28x28>"
            ],
            "image/png": "[encoded data removed]"
          },
          "metadata": {}
        },
        {
          "output_type": "execute_result",
          "data": {
            "text/plain": [
              "(28, 28)"
            ]
          },
          "metadata": {},
          "execution_count": 17
        }
      ],
      "source": [
        "cv2_imshow(x)\n",
        "\n",
        "denoised = denoise_image(x)\n",
        "# denoised = denoise_image(denoised)\n",
        "# cv2_imshow(denoised)\n",
        "denoised.shape"
      ]
    },
    {
      "cell_type": "code",
      "execution_count": null,
      "metadata": {
        "id": "bIpGOl0rzmks"
      },
      "outputs": [],
      "source": [
        "image1 = cv2.resize(denoised, (500,500), interpolation=cv2.INTER_AREA)"
      ]
    },
    {
      "cell_type": "code",
      "execution_count": null,
      "metadata": {
        "colab": {
          "base_uri": "https://localhost:8080/",
          "height": 45
        },
        "id": "Cb43Z-zqzpio",
        "outputId": "64c3f734-43f6-4e72-8f87-1bd6f34e7cd4"
      },
      "outputs": [
        {
          "output_type": "display_data",
          "data": {
            "text/plain": [
              "<PIL.Image.Image image mode=L size=28x28>"
            ],
            "image/png": "[encoded data removed]"
          },
          "metadata": {}
        }
      ],
      "source": [
        "cv2_imshow(denoised)\n",
        "# image2 = cv2.resize(x, (500,500), interpolation=cv2.INTER_AREA)\n",
        "# cv2_imshow(image2)"
      ]
    },
    {
      "cell_type": "markdown",
      "metadata": {
        "id": "GVURw9esbMot"
      },
      "source": [
        "## Image Enhancement"
      ]
    },
    {
      "cell_type": "markdown",
      "metadata": {
        "id": "896xs4BkgP-x"
      },
      "source": [
        "### Denoising"
      ]
    },
    {
      "cell_type": "code",
      "execution_count": null,
      "metadata": {
        "id": "0AtQWww2gP4W"
      },
      "outputs": [],
      "source": [
        "def denoise_image(image):\n",
        "\n",
        "    # gray = cv2.cvtColor(image, cv2.COLOR_BGR2GRAY)\n",
        "    denoised = cv2.medianBlur(image, 3)\n",
        "\n",
        "    if len(image.shape) == 3:\n",
        "        denoised = cv2.cvtColor(denoised, cv2.COLOR_GRAY2BGR)\n",
        "\n",
        "    return denoised"
      ]
    },
    {
      "cell_type": "code",
      "execution_count": null,
      "metadata": {
        "id": "qZ0x7_THiGU7"
      },
      "outputs": [],
      "source": [
        "denoised_x_train=[]\n",
        "for img in x_train_reshaped:\n",
        "  cv2.imwrite('color_img.jpg', img)\n",
        "  x=cv2.imread(\"color_img.jpg\", cv2.IMREAD_GRAYSCALE)\n",
        "  x=denoise_image(x)\n",
        "  denoised_x_train.append(x)\n",
        "\n",
        "\n",
        "denoised_x_train=np.array(denoised_x_train)\n",
        "denoised_x_train=denoised_x_train.reshape(-1,784)"
      ]
    },
    {
      "cell_type": "code",
      "execution_count": null,
      "metadata": {
        "id": "Zh0UDzE_fBAU"
      },
      "outputs": [],
      "source": [
        "denoised_x_test=[]\n",
        "for img in x_test_reshaped:\n",
        "  cv2.imwrite('color_img.jpg', img)\n",
        "  x=cv2.imread(\"color_img.jpg\", cv2.IMREAD_GRAYSCALE)\n",
        "  x=denoise_image(x)\n",
        "  denoised_x_test.append(x)\n",
        "\n",
        "\n",
        "denoised_x_test=np.array(denoised_x_test)\n",
        "denoised_x_test=denoised_x_test.reshape(-1,784)"
      ]
    },
    {
      "cell_type": "markdown",
      "metadata": {
        "id": "tnaU6ot0gPzF"
      },
      "source": [
        "### Contrast Enhancement"
      ]
    },
    {
      "cell_type": "code",
      "execution_count": null,
      "metadata": {
        "id": "3nf-Q707gPul"
      },
      "outputs": [],
      "source": [
        "def enhance_contrast(image):\n",
        "    equalized = cv2.equalizeHist(image)\n",
        "\n",
        "    return equalized"
      ]
    },
    {
      "cell_type": "code",
      "execution_count": null,
      "metadata": {
        "id": "fKEAzyQGi0yc"
      },
      "outputs": [],
      "source": [
        "contrast_x_train=[]\n",
        "for img in x_train_reshaped:\n",
        "  cv2.imwrite('color_img.jpg', img)\n",
        "  x=cv2.imread(\"color_img.jpg\", cv2.IMREAD_GRAYSCALE)\n",
        "  x=enhance_contrast(x)\n",
        "  contrast_x_train.append(x)\n",
        "contrast_x_train=np.array(contrast_x_train)\n",
        "contrast_x_train=contrast_x_train.reshape(-1,784)"
      ]
    },
    {
      "cell_type": "code",
      "execution_count": null,
      "metadata": {
        "id": "vD-VBcJAfJPv"
      },
      "outputs": [],
      "source": [
        "contrast_x_test=[]\n",
        "for img in x_test_reshaped:\n",
        "  cv2.imwrite('color_img.jpg', img)\n",
        "  x=cv2.imread(\"color_img.jpg\", cv2.IMREAD_GRAYSCALE)\n",
        "  x=enhance_contrast(x)\n",
        "  contrast_x_test.append(x)\n",
        "\n",
        "\n",
        "contrast_x_test=np.array(contrast_x_test)\n",
        "contrast_x_test=contrast_x_test.reshape(-1,784)"
      ]
    },
    {
      "cell_type": "markdown",
      "metadata": {
        "id": "kbliZI4OgPpL"
      },
      "source": [
        "### Filtering"
      ]
    },
    {
      "cell_type": "code",
      "execution_count": null,
      "metadata": {
        "id": "y44qgUXcgPjz"
      },
      "outputs": [],
      "source": [
        "def apply_filter(image, filter_type, kernel_size):\n",
        "\n",
        "    if filter_type == 'gaussian':\n",
        "        kernel = cv2.getGaussianKernel(kernel_size, 0)\n",
        "        kernel = np.outer(kernel, kernel.transpose())\n",
        "    elif filter_type == 'sobel_x':\n",
        "        kernel = np.array([[-1, 0, 1],\n",
        "                           [-2, 0, 2],\n",
        "                           [-1, 0, 1]])\n",
        "    elif filter_type == 'sobel_y':\n",
        "        kernel = np.array([[-1, -2, -1],\n",
        "                           [0, 0, 0],\n",
        "                           [1, 2, 1]])\n",
        "    elif filter_type == 'laplacian':\n",
        "        kernel = np.array([[0, 1, 0],\n",
        "                           [1, -4, 1],\n",
        "                           [0, 1, 0]])\n",
        "    else:\n",
        "        raise ValueError('Invalid filter type')\n",
        "\n",
        "    filtered = cv2.filter2D(image, -1, kernel)\n",
        "\n",
        "    return filtered"
      ]
    },
    {
      "cell_type": "code",
      "execution_count": null,
      "metadata": {
        "id": "18Jbv4AajaF9"
      },
      "outputs": [],
      "source": [
        "filter_x_train=[]\n",
        "for img in x_train_reshaped:\n",
        "  cv2.imwrite('color_img.jpg', img)\n",
        "  x=cv2.imread(\"color_img.jpg\", cv2.IMREAD_GRAYSCALE)\n",
        "  x=apply_filter(x,'gaussian', 3)\n",
        "  filter_x_train.append(x)\n",
        "filter_x_train=np.array(filter_x_train)\n",
        "filter_x_train=filter_x_train.reshape(-1,784)"
      ]
    },
    {
      "cell_type": "code",
      "execution_count": null,
      "metadata": {
        "id": "FPkJ43NFfOSj"
      },
      "outputs": [],
      "source": [
        "filter_x_test=[]\n",
        "for img in x_test_reshaped:\n",
        "  cv2.imwrite('color_img.jpg', img)\n",
        "  x=cv2.imread(\"color_img.jpg\", cv2.IMREAD_GRAYSCALE)\n",
        "  x=apply_filter(x, 'gaussian', 3)\n",
        "  filter_x_test.append(x)\n",
        "\n",
        "\n",
        "filter_x_test=np.array(filter_x_test)\n",
        "filter_x_test=filter_x_test.reshape(-1,784)"
      ]
    },
    {
      "cell_type": "markdown",
      "metadata": {
        "id": "MBNz4flVgPeT"
      },
      "source": [
        "### CLAHE Image Processing"
      ]
    },
    {
      "cell_type": "code",
      "execution_count": null,
      "metadata": {
        "id": "_Hw5_c2ugPJY"
      },
      "outputs": [],
      "source": [
        "def apply_clahe(image, clip_limit=2.0, tile_size=(8, 8)):\n",
        "\n",
        "    clahe = cv2.createCLAHE(clipLimit=clip_limit, tileGridSize=tile_size)\n",
        "    enhanced = clahe.apply(image)\n",
        "\n",
        "    return enhanced"
      ]
    },
    {
      "cell_type": "code",
      "execution_count": null,
      "metadata": {
        "id": "ekuXBDXEjaaI"
      },
      "outputs": [],
      "source": [
        "clahe_x_train=[]\n",
        "for img in x_train_reshaped:\n",
        "  cv2.imwrite('color_img.jpg', img)\n",
        "  x=cv2.imread(\"color_img.jpg\", cv2.IMREAD_GRAYSCALE)\n",
        "  x=apply_clahe(x)\n",
        "  clahe_x_train.append(x)\n",
        "clahe_x_train=np.array(clahe_x_train)\n",
        "clahe_x_train=clahe_x_train.reshape(-1,784)"
      ]
    },
    {
      "cell_type": "code",
      "execution_count": null,
      "metadata": {
        "id": "DfcJOcbffUAb"
      },
      "outputs": [],
      "source": [
        "clahe_x_test=[]\n",
        "for img in x_test_reshaped:\n",
        "  cv2.imwrite('color_img.jpg', img)\n",
        "  x=cv2.imread(\"color_img.jpg\", cv2.IMREAD_GRAYSCALE)\n",
        "  x=apply_clahe(x)\n",
        "  clahe_x_test.append(x)\n",
        "\n",
        "\n",
        "clahe_x_test=np.array(clahe_x_test)\n",
        "clahe_x_test=clahe_x_test.reshape(-1,784)"
      ]
    },
    {
      "cell_type": "markdown",
      "metadata": {
        "id": "NPFVQKPcgh-W"
      },
      "source": [
        "### Image Smoothening & Sharpening"
      ]
    },
    {
      "cell_type": "code",
      "execution_count": null,
      "metadata": {
        "id": "gZPFPNqGghuT"
      },
      "outputs": [],
      "source": [
        "def smooth_and_sharpen(image):\n",
        "    blurred = cv2.GaussianBlur(image, (5,5), 0)\n",
        "    laplacian = cv2.Laplacian(blurred, cv2.CV_8U, ksize=3)\n",
        "\n",
        "    sharpened = cv2.addWeighted(image, 1.5, laplacian, -0.5, 0)\n",
        "\n",
        "    return sharpened"
      ]
    },
    {
      "cell_type": "code",
      "execution_count": null,
      "metadata": {
        "id": "zoEbL9l0cgws"
      },
      "outputs": [],
      "source": [
        "sharp_x_train=[]\n",
        "for img in x_train_reshaped:\n",
        "  cv2.imwrite('color_img.jpg', img)\n",
        "  x=cv2.imread(\"color_img.jpg\", cv2.IMREAD_GRAYSCALE)\n",
        "  x=smooth_and_sharpen(x)\n",
        "  sharp_x_train.append(x)\n",
        "sharp_x_train=np.array(sharp_x_train)\n",
        "sharp_x_train=sharp_x_train.reshape(-1,784)"
      ]
    },
    {
      "cell_type": "code",
      "execution_count": null,
      "metadata": {
        "id": "0XRmy6BgfYGz"
      },
      "outputs": [],
      "source": [
        "sharp_x_test=[]\n",
        "for img in x_test_reshaped:\n",
        "  cv2.imwrite('color_img.jpg', img)\n",
        "  x=cv2.imread(\"color_img.jpg\", cv2.IMREAD_GRAYSCALE)\n",
        "  x=smooth_and_sharpen(x)\n",
        "  sharp_x_test.append(x)\n",
        "\n",
        "\n",
        "sharp_x_test=np.array(sharp_x_test)\n",
        "sharp_x_test=sharp_x_test.reshape(-1,784)"
      ]
    },
    {
      "cell_type": "markdown",
      "source": [
        "### HOG Features"
      ],
      "metadata": {
        "id": "yVnIvYaFFmxa"
      }
    },
    {
      "cell_type": "code",
      "source": [
        "from skimage.feature import hog\n",
        "from skimage import data, exposure\n",
        "import matplotlib.pyplot as plt\n",
        "\n",
        "\n",
        "# Extract HOG features for training images\n",
        "hog_features_train = []\n",
        "for img_id in range(x_train.shape[0]):\n",
        "    if(img_id%1000==0):\n",
        "        print(img_id)\n",
        "    fd = hog(x_train[img_id].reshape((28, 28)), orientations=8, pixels_per_cell=(4, 4), cells_per_block=(1, 1))\n",
        "    hog_features_train.append(fd)\n",
        "hog_features_train = np.array(hog_features_train)\n",
        "print(hog_features_train.shape)\n",
        "\n",
        "# Extract HOG features for testing images\n",
        "hog_features_test = []\n",
        "for img_id in range(x_test.shape[0]):\n",
        "    fd = hog(x_test[img_id].reshape((28, 28)), orientations=8, pixels_per_cell=(4, 4), cells_per_block=(1, 1))\n",
        "    hog_features_test.append(fd)\n",
        "hog_features_test = np.array(hog_features_test)\n",
        "\n",
        "print(hog_features_test.shape)"
      ],
      "metadata": {
        "colab": {
          "base_uri": "https://localhost:8080/"
        },
        "id": "8bOiO4hOFoTb",
        "outputId": "9d3dc9ac-70d9-476a-c5d2-8789f8ee0959"
      },
      "execution_count": null,
      "outputs": [
        {
          "output_type": "stream",
          "name": "stdout",
          "text": [
            "0\n",
            "1000\n",
            "2000\n",
            "3000\n",
            "4000\n",
            "5000\n",
            "6000\n",
            "7000\n",
            "8000\n",
            "9000\n",
            "10000\n",
            "11000\n",
            "12000\n",
            "13000\n",
            "14000\n",
            "15000\n",
            "(16000, 392)\n",
            "(4000, 392)\n"
          ]
        }
      ]
    },
    {
      "cell_type": "markdown",
      "metadata": {
        "id": "GBDpCcDrpY8O"
      },
      "source": [
        "###Corners"
      ]
    },
    {
      "cell_type": "code",
      "execution_count": null,
      "metadata": {
        "id": "-xEm7LMApZaJ"
      },
      "outputs": [],
      "source": [
        "from skimage.color.colorconv import gray2rgba\n",
        "def extract_corners(image):\n",
        "    image = image.astype(np.uint8)\n",
        "\n",
        "    max_corners = 100\n",
        "    quality_level = 0.3\n",
        "    min_distance = 7\n",
        "    block_size = 7\n",
        "\n",
        "    corners = cv2.goodFeaturesToTrack(image, 27, 0.01, 10)\n",
        "    corners = np.int0(corners)\n",
        "    for i in corners:\n",
        "      x, y = i.ravel()\n",
        "      cv2.circle(image, (x, y), 3, 255, -1)\n",
        "\n",
        "    return image"
      ]
    },
    {
      "cell_type": "code",
      "execution_count": null,
      "metadata": {
        "colab": {
          "base_uri": "https://localhost:8080/"
        },
        "id": "mHOMQ55mdx66",
        "outputId": "e8e16b2c-2fa0-4c3d-a6ad-b17cb447d1b2"
      },
      "outputs": [
        {
          "output_type": "stream",
          "name": "stderr",
          "text": [
            "<ipython-input-34-9a4f32be5416>:11: DeprecationWarning: `np.int0` is a deprecated alias for `np.intp`.  (Deprecated NumPy 1.24)\n",
            "  corners = np.int0(corners)\n"
          ]
        }
      ],
      "source": [
        "features[\"Corner Detection\"]=extract_corners(x_train_reshaped[0])"
      ]
    },
    {
      "cell_type": "code",
      "source": [
        "corner_x_train=[]\n",
        "for img in x_train_reshaped:\n",
        "  cv2.imwrite('color_img.jpg', img)\n",
        "  x=cv2.imread(\"color_img.jpg\", cv2.IMREAD_GRAYSCALE)\n",
        "  x=extract_corners(x)\n",
        "  corner_x_train.append(x)\n",
        "corner_x_train=np.array(corner_x_train)\n",
        "corner_x_train=corner_x_train.reshape(-1,784)"
      ],
      "metadata": {
        "colab": {
          "base_uri": "https://localhost:8080/"
        },
        "id": "o2-uvAHb-PcC",
        "outputId": "0f176947-274a-4b60-e683-8b4fa9478ae4"
      },
      "execution_count": null,
      "outputs": [
        {
          "output_type": "stream",
          "name": "stderr",
          "text": [
            "<ipython-input-34-9a4f32be5416>:11: DeprecationWarning: `np.int0` is a deprecated alias for `np.intp`.  (Deprecated NumPy 1.24)\n",
            "  corners = np.int0(corners)\n"
          ]
        }
      ]
    },
    {
      "cell_type": "code",
      "source": [
        "corner_x_test=[]\n",
        "for img in x_test_reshaped:\n",
        "  cv2.imwrite('color_img.jpg', img)\n",
        "  x=cv2.imread(\"color_img.jpg\", cv2.IMREAD_GRAYSCALE)\n",
        "  x=extract_corners(x)\n",
        "  corner_x_test.append(x)\n",
        "\n",
        "\n",
        "corner_x_test=np.array(corner_x_test)\n",
        "corner_x_test=corner_x_test.reshape(-1,784)"
      ],
      "metadata": {
        "colab": {
          "base_uri": "https://localhost:8080/"
        },
        "id": "UKb-_vEF-Wia",
        "outputId": "38d7b62c-2468-48f9-ab5e-fbafc4a63b0a"
      },
      "execution_count": null,
      "outputs": [
        {
          "output_type": "stream",
          "name": "stderr",
          "text": [
            "<ipython-input-34-9a4f32be5416>:11: DeprecationWarning: `np.int0` is a deprecated alias for `np.intp`.  (Deprecated NumPy 1.24)\n",
            "  corners = np.int0(corners)\n"
          ]
        }
      ]
    },
    {
      "cell_type": "markdown",
      "metadata": {
        "id": "K41c01wsplAI"
      },
      "source": [
        "###Edges"
      ]
    },
    {
      "cell_type": "code",
      "execution_count": null,
      "metadata": {
        "id": "wg2OecdBpkdA"
      },
      "outputs": [],
      "source": [
        "def detect_edges(image):\n",
        "    image = image.astype(np.uint8)\n",
        "    gray = image\n",
        "\n",
        "    blurred = cv2.GaussianBlur(gray, (3, 3), 0)\n",
        "    blurred = blurred.astype(np.uint8)\n",
        "    edges = cv2.Canny(blurred, threshold1=30, threshold2=100)\n",
        "\n",
        "    return edges"
      ]
    },
    {
      "cell_type": "code",
      "execution_count": null,
      "metadata": {
        "id": "_NsFBJISeTw8"
      },
      "outputs": [],
      "source": [
        "features[\"Edge Detection\"]=detect_edges(x_train_reshaped[0])"
      ]
    },
    {
      "cell_type": "code",
      "execution_count": null,
      "metadata": {
        "id": "dy5g1zgkkQfg"
      },
      "outputs": [],
      "source": [
        "edge_x_train=[]\n",
        "for img in x_train_reshaped:\n",
        "  cv2.imwrite('color_img.jpg', img)\n",
        "  x=cv2.imread(\"color_img.jpg\", cv2.IMREAD_GRAYSCALE)\n",
        "  x=detect_edges(x)\n",
        "  edge_x_train.append(x)\n",
        "edge_x_train=np.array(edge_x_train)\n",
        "edge_x_train=edge_x_train.reshape(-1,784)"
      ]
    },
    {
      "cell_type": "code",
      "source": [
        "edge_x_test=[]\n",
        "for img in x_test_reshaped:\n",
        "  cv2.imwrite('color_img.jpg', img)\n",
        "  x=cv2.imread(\"color_img.jpg\", cv2.IMREAD_GRAYSCALE)\n",
        "  x=detect_edges(x)\n",
        "  edge_x_test.append(x)\n",
        "edge_x_test=np.array(edge_x_test)\n",
        "edge_x_test=edge_x_test.reshape(-1,784)"
      ],
      "metadata": {
        "id": "1pPGixVA--cB"
      },
      "execution_count": null,
      "outputs": []
    },
    {
      "cell_type": "markdown",
      "metadata": {
        "id": "ymzOQ1CcbLNU"
      },
      "source": [
        "## Data Augmentation"
      ]
    },
    {
      "cell_type": "markdown",
      "metadata": {
        "id": "3Odwx7ghqB6h"
      },
      "source": [
        "###Rotation"
      ]
    },
    {
      "cell_type": "code",
      "execution_count": null,
      "metadata": {
        "id": "Kwasso-ObLFy"
      },
      "outputs": [],
      "source": [
        "def rotate_image(image, angle):\n",
        "    # Get the dimensions of the input image\n",
        "    height, width = image.shape[:2]\n",
        "\n",
        "    # Calculate the rotation matrix using the specified angle\n",
        "    rotation_matrix = cv2.getRotationMatrix2D((width/2, height/2), angle, 1)\n",
        "\n",
        "    # Apply the rotation matrix to the input image using cv2.warpAffine()\n",
        "    rotated_image = cv2.warpAffine(image, rotation_matrix, (width, height))\n",
        "\n",
        "    return rotated_image"
      ]
    },
    {
      "cell_type": "code",
      "execution_count": null,
      "metadata": {
        "id": "8jmIFCBeN2Sq"
      },
      "outputs": [],
      "source": [
        "rotated_x_train=[]\n",
        "for img in x_train_reshaped:\n",
        "  x=rotate_image(img,5)\n",
        "  rotated_x_train.append(x)\n",
        "rotated_x_train=np.array(rotated_x_train)\n",
        "rotated_x_train=rotated_x_train.reshape(-1,784)"
      ]
    },
    {
      "cell_type": "markdown",
      "metadata": {
        "id": "jy3-eHblqDmO"
      },
      "source": [
        "### Horizontal Flipping"
      ]
    },
    {
      "cell_type": "code",
      "execution_count": null,
      "metadata": {
        "id": "7zSkq76WqDX5"
      },
      "outputs": [],
      "source": [
        "def horizontal_flip(image):\n",
        "    # Flip the input image horizontally using cv2.flip()\n",
        "    flipped_image = cv2.flip(image, 1)\n",
        "\n",
        "    return flipped_image"
      ]
    },
    {
      "cell_type": "code",
      "execution_count": null,
      "metadata": {
        "id": "eQGAaEckST7x"
      },
      "outputs": [],
      "source": [
        "flip_x_train=[]\n",
        "for img in x_train_reshaped:\n",
        "  x=horizontal_flip(img)\n",
        "  flip_x_train.append(x)\n",
        "flip_x_train=np.array(flip_x_train)\n",
        "flip_x_train=flip_x_train.reshape(-1,784)"
      ]
    },
    {
      "cell_type": "markdown",
      "metadata": {
        "id": "KVyK-pAjbLs_"
      },
      "source": [
        "## Classification Models"
      ]
    },
    {
      "cell_type": "code",
      "execution_count": null,
      "metadata": {
        "id": "WIputWpVKItO"
      },
      "outputs": [],
      "source": [
        "dic={}\n",
        "dic1={}\n",
        "dic2={}\n",
        "enchanced={}\n",
        "dic_hp={}"
      ]
    },
    {
      "cell_type": "markdown",
      "metadata": {
        "id": "OqbyIT7QoN-Y"
      },
      "source": [
        "###KNN"
      ]
    },
    {
      "cell_type": "code",
      "execution_count": null,
      "metadata": {
        "id": "jrLSYq6ybLmg"
      },
      "outputs": [],
      "source": [
        "def KNN(x_train_1d, y_train, x_test_1d,y_test):\n",
        "\n",
        "  tuning_parameters = {'n_neighbors': [1,3,5,7,9,11]}\n",
        "\n",
        "  knn = KNeighborsClassifier(n_neighbors = 5, n_jobs=-1)\n",
        "  knn.fit(x_train_1d, y_train)\n",
        "\n",
        "\n",
        "  y_pred = knn.predict(x_test_1d)\n",
        "  y_pred[:10]\n",
        "\n",
        "  accuracy = accuracy_score(y_test, y_pred)\n",
        "  print(accuracy)\n",
        "  return accuracy"
      ]
    },
    {
      "cell_type": "code",
      "execution_count": null,
      "metadata": {
        "colab": {
          "base_uri": "https://localhost:8080/"
        },
        "id": "Q_892CTREy1a",
        "outputId": "e1e7bb68-1d58-497f-aa73-60380d1df9e9"
      },
      "outputs": [
        {
          "output_type": "stream",
          "name": "stdout",
          "text": [
            "0.59725\n"
          ]
        }
      ],
      "source": [
        "dic['KNN']=KNN(x_train,y_train,x_test,y_test)"
      ]
    },
    {
      "cell_type": "code",
      "execution_count": null,
      "metadata": {
        "colab": {
          "base_uri": "https://localhost:8080/"
        },
        "id": "-HiB1Mb6YnUT",
        "outputId": "4e69c4a4-eaaa-47bd-8c8b-ee4e162d944b"
      },
      "outputs": [
        {
          "output_type": "stream",
          "name": "stdout",
          "text": [
            "0.58125\n"
          ]
        }
      ],
      "source": [
        "dic1['KNN']=KNN(flip_x_train,y_train,x_test,y_test)"
      ]
    },
    {
      "cell_type": "code",
      "execution_count": null,
      "metadata": {
        "colab": {
          "base_uri": "https://localhost:8080/"
        },
        "id": "241qfVTTYnId",
        "outputId": "96f578ac-837b-4a70-da5e-8bc537d7157d"
      },
      "outputs": [
        {
          "output_type": "stream",
          "name": "stdout",
          "text": [
            "0.62525\n"
          ]
        }
      ],
      "source": [
        "dic2['KNN']=KNN(rotated_x_train,y_train,x_test,y_test)"
      ]
    },
    {
      "cell_type": "markdown",
      "metadata": {
        "id": "5x2EonLCo3ZN"
      },
      "source": [
        "###Logictic Regression"
      ]
    },
    {
      "cell_type": "code",
      "execution_count": null,
      "metadata": {
        "id": "es8JGTybo6Te"
      },
      "outputs": [],
      "source": [
        "def LogisticReg(x_train_1d, y_train, x_test_1d,y_test):\n",
        "  clf = LogisticRegression(random_state=0)\n",
        "  # knn = GridSearchCV(clf_knn, tuning_parameters, n_jobs=-1)\n",
        "  clf.fit(x_train_1d, y_train)\n",
        "\n",
        "  y_pred = clf.predict(x_test_1d)\n",
        "  y_pred[:10]\n",
        "  accuracy = accuracy_score(y_test, y_pred)\n",
        "  print(accuracy)\n",
        "  return accuracy"
      ]
    },
    {
      "cell_type": "code",
      "execution_count": null,
      "metadata": {
        "colab": {
          "base_uri": "https://localhost:8080/"
        },
        "id": "XOKzchpmLE_Z",
        "outputId": "4ff5272e-0d70-4c69-e4fc-44da940cfab3"
      },
      "outputs": [
        {
          "output_type": "stream",
          "name": "stdout",
          "text": [
            "0.46175\n"
          ]
        },
        {
          "output_type": "stream",
          "name": "stderr",
          "text": [
            "/usr/local/lib/python3.10/dist-packages/sklearn/linear_model/_logistic.py:458: ConvergenceWarning: lbfgs failed to converge (status=1):\n",
            "STOP: TOTAL NO. of ITERATIONS REACHED LIMIT.\n",
            "\n",
            "Increase the number of iterations (max_iter) or scale the data as shown in:\n",
            "    https://scikit-learn.org/stable/modules/preprocessing.html\n",
            "Please also refer to the documentation for alternative solver options:\n",
            "    https://scikit-learn.org/stable/modules/linear_model.html#logistic-regression\n",
            "  n_iter_i = _check_optimize_result(\n"
          ]
        }
      ],
      "source": [
        "dic['Logistic Regression']=LogisticReg(x_train,y_train,x_test,y_test)"
      ]
    },
    {
      "cell_type": "code",
      "execution_count": null,
      "metadata": {
        "colab": {
          "base_uri": "https://localhost:8080/"
        },
        "id": "GIeCsXmyYw60",
        "outputId": "eece09cf-e886-4031-cc83-505e695ecf11"
      },
      "outputs": [
        {
          "output_type": "stream",
          "name": "stdout",
          "text": [
            "0.4295\n"
          ]
        },
        {
          "output_type": "stream",
          "name": "stderr",
          "text": [
            "/usr/local/lib/python3.10/dist-packages/sklearn/linear_model/_logistic.py:458: ConvergenceWarning: lbfgs failed to converge (status=1):\n",
            "STOP: TOTAL NO. of ITERATIONS REACHED LIMIT.\n",
            "\n",
            "Increase the number of iterations (max_iter) or scale the data as shown in:\n",
            "    https://scikit-learn.org/stable/modules/preprocessing.html\n",
            "Please also refer to the documentation for alternative solver options:\n",
            "    https://scikit-learn.org/stable/modules/linear_model.html#logistic-regression\n",
            "  n_iter_i = _check_optimize_result(\n"
          ]
        }
      ],
      "source": [
        "dic1['Logistic Regression']=LogisticReg(flip_x_train,y_train,x_test,y_test)"
      ]
    },
    {
      "cell_type": "code",
      "execution_count": null,
      "metadata": {
        "colab": {
          "base_uri": "https://localhost:8080/"
        },
        "id": "RzhLzF7OY0DN",
        "outputId": "1fa4b771-8087-43ba-827d-3cf728d69eba"
      },
      "outputs": [
        {
          "output_type": "stream",
          "name": "stdout",
          "text": [
            "0.39825\n"
          ]
        },
        {
          "output_type": "stream",
          "name": "stderr",
          "text": [
            "/usr/local/lib/python3.10/dist-packages/sklearn/linear_model/_logistic.py:458: ConvergenceWarning: lbfgs failed to converge (status=1):\n",
            "STOP: TOTAL NO. of ITERATIONS REACHED LIMIT.\n",
            "\n",
            "Increase the number of iterations (max_iter) or scale the data as shown in:\n",
            "    https://scikit-learn.org/stable/modules/preprocessing.html\n",
            "Please also refer to the documentation for alternative solver options:\n",
            "    https://scikit-learn.org/stable/modules/linear_model.html#logistic-regression\n",
            "  n_iter_i = _check_optimize_result(\n"
          ]
        }
      ],
      "source": [
        "dic2['Logistic Regression']=LogisticReg(rotated_x_train,y_train,x_test,y_test)"
      ]
    },
    {
      "cell_type": "markdown",
      "metadata": {
        "id": "o8PEc7bho8lb"
      },
      "source": [
        "###Naive Bayes"
      ]
    },
    {
      "cell_type": "code",
      "execution_count": null,
      "metadata": {
        "id": "U4ZPjDKSpBaL"
      },
      "outputs": [],
      "source": [
        "def NaiveBayes(x_train_1d, y_train, x_test_1d,y_test):\n",
        "  clf = GaussianNB()\n",
        "  # knn = GridSearchCV(clf_knn, tuning_parameters, n_jobs=-1)\n",
        "  clf.fit(x_train_1d, y_train)\n",
        "\n",
        "  y_pred = clf.predict(x_test_1d)\n",
        "  y_pred[:10]\n",
        "\n",
        "  accuracy = accuracy_score(y_test, y_pred)\n",
        "  print(accuracy)\n",
        "  return accuracy"
      ]
    },
    {
      "cell_type": "code",
      "execution_count": null,
      "metadata": {
        "colab": {
          "base_uri": "https://localhost:8080/"
        },
        "id": "aJCaPMY9LPsV",
        "outputId": "2bee6648-6ddf-4194-da91-843dbf3ed74a"
      },
      "outputs": [
        {
          "output_type": "stream",
          "name": "stdout",
          "text": [
            "0.32675\n"
          ]
        }
      ],
      "source": [
        "dic['Naive Bayes']=NaiveBayes(x_train,y_train,x_test,y_test)"
      ]
    },
    {
      "cell_type": "code",
      "execution_count": null,
      "metadata": {
        "colab": {
          "base_uri": "https://localhost:8080/"
        },
        "id": "JgsBioYhXSKT",
        "outputId": "349a42d8-f1d4-486d-9827-ec11b5992d38"
      },
      "outputs": [
        {
          "output_type": "stream",
          "name": "stdout",
          "text": [
            "0.30925\n"
          ]
        }
      ],
      "source": [
        "dic1['Naive Bayes']=NaiveBayes(flip_x_train,y_train,x_test,y_test)"
      ]
    },
    {
      "cell_type": "code",
      "execution_count": null,
      "metadata": {
        "colab": {
          "base_uri": "https://localhost:8080/"
        },
        "id": "Jkj02UVGZGZK",
        "outputId": "9b600c7c-fcbd-4eb2-e4b7-323505426596"
      },
      "outputs": [
        {
          "output_type": "stream",
          "name": "stdout",
          "text": [
            "0.32325\n"
          ]
        }
      ],
      "source": [
        "dic2['Naive Bayes']=NaiveBayes(rotated_x_train,y_train,x_test,y_test)"
      ]
    },
    {
      "cell_type": "markdown",
      "metadata": {
        "id": "mvLvTtBVpBwH"
      },
      "source": [
        "###Random Forest"
      ]
    },
    {
      "cell_type": "code",
      "execution_count": null,
      "metadata": {
        "id": "A3BjpqYYpFKZ"
      },
      "outputs": [],
      "source": [
        "def RandomForest(x_train_1d, y_train, x_test_1d,y_test):\n",
        "\n",
        "  parameters = {'n_estimators': [100,120,140,160]}\n",
        "\n",
        "  clf_rf = RandomForestClassifier(n_estimators = 150, n_jobs=-1, random_state=0)\n",
        "  # model = GridSearchCV(clf_rf, parameters, n_jobs=-1)\n",
        "  clf_rf.fit(x_train_1d, y_train)\n",
        "\n",
        "  y_pred = clf_rf.predict(x_test_1d)\n",
        "  y_pred[:10]\n",
        "\n",
        "  accuracy = accuracy_score(y_test, y_pred)\n",
        "  print(accuracy)\n",
        "  return accuracy"
      ]
    },
    {
      "cell_type": "code",
      "execution_count": null,
      "metadata": {
        "colab": {
          "base_uri": "https://localhost:8080/"
        },
        "id": "h5CtRT8JLTCZ",
        "outputId": "22ac65a8-2d93-4e00-d869-61476eea86c5"
      },
      "outputs": [
        {
          "output_type": "stream",
          "name": "stdout",
          "text": [
            "0.647\n"
          ]
        }
      ],
      "source": [
        "dic['Random Forest']=RandomForest(x_train,y_train,x_test,y_test)"
      ]
    },
    {
      "cell_type": "code",
      "execution_count": null,
      "metadata": {
        "colab": {
          "base_uri": "https://localhost:8080/"
        },
        "id": "14HgbAfYZKNt",
        "outputId": "ef1a0231-86fd-4f17-e6f7-240477f00bc2"
      },
      "outputs": [
        {
          "output_type": "stream",
          "name": "stdout",
          "text": [
            "0.6155\n"
          ]
        }
      ],
      "source": [
        "dic1['Random Forest']=RandomForest(flip_x_train,y_train,x_test,y_test)"
      ]
    },
    {
      "cell_type": "code",
      "execution_count": null,
      "metadata": {
        "colab": {
          "base_uri": "https://localhost:8080/"
        },
        "id": "J7hGzAh2ZKLK",
        "outputId": "98d171a3-e42f-446a-de4e-d43c42a22d06"
      },
      "outputs": [
        {
          "output_type": "stream",
          "name": "stdout",
          "text": [
            "0.61175\n"
          ]
        }
      ],
      "source": [
        "dic2['Random Forest']=RandomForest(rotated_x_train,y_train,x_test,y_test)"
      ]
    },
    {
      "cell_type": "code",
      "execution_count": null,
      "metadata": {
        "colab": {
          "base_uri": "https://localhost:8080/"
        },
        "id": "B84YjmoGfnZL",
        "outputId": "a0c16c34-453b-4b33-8957-4bb76aadde48"
      },
      "outputs": [
        {
          "output_type": "stream",
          "name": "stdout",
          "text": [
            "0.6625\n"
          ]
        }
      ],
      "source": [
        "enchanced['Denoised']=RandomForest(denoised_x_train,y_train,denoised_x_test,y_test)"
      ]
    },
    {
      "cell_type": "code",
      "source": [
        "enchanced['Corner']=RandomForest(corner_x_train,y_train,corner_x_test,y_test)"
      ],
      "metadata": {
        "colab": {
          "base_uri": "https://localhost:8080/"
        },
        "id": "5yL9zBqa93nR",
        "outputId": "d46e67ab-7812-44b1-da56-1c473f2ac831"
      },
      "execution_count": null,
      "outputs": [
        {
          "output_type": "stream",
          "name": "stdout",
          "text": [
            "0.60425\n"
          ]
        }
      ]
    },
    {
      "cell_type": "code",
      "source": [
        "enchanced['Edge']=RandomForest(edge_x_train,y_train,edge_x_test,y_test)"
      ],
      "metadata": {
        "colab": {
          "base_uri": "https://localhost:8080/"
        },
        "id": "-QinJ1d9_nLb",
        "outputId": "6957f905-3fb4-450d-a6b5-86693d7a004d"
      },
      "execution_count": null,
      "outputs": [
        {
          "output_type": "stream",
          "name": "stdout",
          "text": [
            "0.50275\n"
          ]
        }
      ]
    },
    {
      "cell_type": "code",
      "execution_count": null,
      "metadata": {
        "colab": {
          "base_uri": "https://localhost:8080/"
        },
        "id": "iPHW5vk_fthL",
        "outputId": "70257160-6117-4f77-d1d4-e095c2680c8b"
      },
      "outputs": [
        {
          "output_type": "stream",
          "name": "stdout",
          "text": [
            "0.6\n"
          ]
        }
      ],
      "source": [
        "enchanced['Contrast']=RandomForest(contrast_x_train,y_train,contrast_x_test,y_test)"
      ]
    },
    {
      "cell_type": "code",
      "execution_count": null,
      "metadata": {
        "id": "FPC1zCASftaa",
        "colab": {
          "base_uri": "https://localhost:8080/"
        },
        "outputId": "89569145-6add-48a4-974b-98bad709cb8e"
      },
      "outputs": [
        {
          "output_type": "stream",
          "name": "stdout",
          "text": [
            "0.684\n"
          ]
        }
      ],
      "source": [
        "enchanced['Filter']=RandomForest(filter_x_train,y_train,filter_x_test,y_test)"
      ]
    },
    {
      "cell_type": "code",
      "execution_count": null,
      "metadata": {
        "id": "op2_qpt7ftUP",
        "colab": {
          "base_uri": "https://localhost:8080/"
        },
        "outputId": "fac8e9ab-21e0-4f31-aee6-0553cc51603f"
      },
      "outputs": [
        {
          "output_type": "stream",
          "name": "stdout",
          "text": [
            "0.6035\n"
          ]
        }
      ],
      "source": [
        "enchanced['clahe']=RandomForest(clahe_x_train,y_train,clahe_x_test,y_test)"
      ]
    },
    {
      "cell_type": "code",
      "execution_count": null,
      "metadata": {
        "id": "VMZmMCHJfuv_",
        "colab": {
          "base_uri": "https://localhost:8080/"
        },
        "outputId": "8265c9ec-d4c7-42ff-f669-16a464af4673"
      },
      "outputs": [
        {
          "output_type": "stream",
          "name": "stdout",
          "text": [
            "0.639\n"
          ]
        }
      ],
      "source": [
        "enchanced['sharp']=RandomForest(sharp_x_train,y_train,sharp_x_test,y_test)"
      ]
    },
    {
      "cell_type": "code",
      "source": [
        "enchanced['hog']=RandomForest(hog_features_train,y_train,hog_features_test,y_test)"
      ],
      "metadata": {
        "colab": {
          "base_uri": "https://localhost:8080/"
        },
        "id": "9IksjoQNFuw6",
        "outputId": "957c83d8-db30-419c-ec12-5330490dc8ff"
      },
      "execution_count": null,
      "outputs": [
        {
          "output_type": "stream",
          "name": "stdout",
          "text": [
            "0.7215\n"
          ]
        }
      ]
    },
    {
      "cell_type": "markdown",
      "source": [
        "### SVM"
      ],
      "metadata": {
        "id": "j_20PpkDQCbL"
      }
    },
    {
      "cell_type": "code",
      "source": [
        "# using only 1000 images per class\n",
        "clf = SVC(kernel = 'rbf')\n",
        "clf.fit(x_train, y_train)\n",
        "\n",
        "# Make predictions on the test set\n",
        "pred = clf.predict(test_svm)\n",
        "\n",
        "accuracy = accuracy_score(test_svm_labels, pred)\n",
        "print(\"Accuracy:\", accuracy)"
      ],
      "metadata": {
        "colab": {
          "base_uri": "https://localhost:8080/"
        },
        "id": "VY7W_5Jlivgk",
        "outputId": "6c06a578-63ca-49c4-fbf9-eeec20a89b45"
      },
      "execution_count": null,
      "outputs": [
        {
          "output_type": "stream",
          "name": "stdout",
          "text": [
            "Accuracy: 0.69925\n"
          ]
        }
      ]
    },
    {
      "cell_type": "code",
      "source": [
        "# Gaussian FIltering\n",
        "clf = SVC(kernel = 'rbf')\n",
        "clf.fit(filter_x_train, y_train)\n",
        "\n",
        "# Make predictions on the test set\n",
        "pred = clf.predict(filter_x_test)\n",
        "\n",
        "accuracy = accuracy_score(y_test, pred)\n",
        "print(\"Accuracy:\", accuracy)"
      ],
      "metadata": {
        "colab": {
          "base_uri": "https://localhost:8080/"
        },
        "id": "ZcSU4Og10ANT",
        "outputId": "34cc5a66-2120-4b24-8e02-2d1bce03b7f0"
      },
      "execution_count": null,
      "outputs": [
        {
          "output_type": "stream",
          "name": "stdout",
          "text": [
            "Accuracy: 0.7175\n"
          ]
        }
      ]
    },
    {
      "cell_type": "code",
      "source": [
        "# Laplacian Filtering\n",
        "\n",
        "clf = SVC(kernel = 'rbf')\n",
        "clf.fit(filter_laplacian_x_train, y_train)\n",
        "\n",
        "# Make predictions on the test set\n",
        "pred = clf.predict(filter_laplacian_x_test)\n",
        "\n",
        "accuracy = accuracy_score(y_test, pred)\n",
        "print(\"Accuracy:\", accuracy)"
      ],
      "metadata": {
        "colab": {
          "base_uri": "https://localhost:8080/"
        },
        "id": "xns84LIu0Vmm",
        "outputId": "3e0b7398-d456-4123-ed91-c077a1326a88"
      },
      "execution_count": null,
      "outputs": [
        {
          "output_type": "stream",
          "name": "stdout",
          "text": [
            "Accuracy: 0.5945\n"
          ]
        }
      ]
    },
    {
      "cell_type": "code",
      "source": [
        "# CLAHE processing\n",
        "clf = SVC(kernel = 'rbf')\n",
        "clf.fit(clahe_x_train, y_train)\n",
        "\n",
        "# Make predictions on the test set\n",
        "pred = clf.predict(clahe_x_test)\n",
        "\n",
        "accuracy = accuracy_score(y_test, pred)\n",
        "print(\"Accuracy:\", accuracy)"
      ],
      "metadata": {
        "colab": {
          "base_uri": "https://localhost:8080/"
        },
        "id": "n8H2BzPf1ghZ",
        "outputId": "5e7d073d-d8b7-4198-adf1-27afffd637d5"
      },
      "execution_count": null,
      "outputs": [
        {
          "output_type": "stream",
          "name": "stdout",
          "text": [
            "Accuracy: 0.6945\n"
          ]
        }
      ]
    },
    {
      "cell_type": "code",
      "source": [
        "svm = SVC()\n",
        "svm.fit(hog_features_train, y_train)\n",
        "# Make predictions on the test set\n",
        "y_pred = svm.predict(hog_features_test)\n",
        "\n",
        "# Calculate accuracy\n",
        "accuracy = accuracy_score(y_test, y_pred)\n",
        "print(\"Accuracy:\", accuracy)\n"
      ],
      "metadata": {
        "colab": {
          "base_uri": "https://localhost:8080/"
        },
        "id": "PyumluQrEBJa",
        "outputId": "21593dfd-d181-48ad-a3d6-64c333b6e066"
      },
      "execution_count": null,
      "outputs": [
        {
          "output_type": "stream",
          "name": "stdout",
          "text": [
            "Accuracy: 0.77025\n"
          ]
        }
      ]
    },
    {
      "cell_type": "markdown",
      "source": [
        "### Adaboost"
      ],
      "metadata": {
        "id": "pQcNm8ZoQYRY"
      }
    },
    {
      "cell_type": "code",
      "source": [
        "\n",
        "\n",
        "# Create a base classifier (e.g., decision tree)\n",
        "base_classifier = DecisionTreeClassifier(max_depth=1)\n",
        "\n",
        "# Create an AdaBoost classifier\n",
        "adaboost_classifier = AdaBoostClassifier(base_estimator=base_classifier, n_estimators=50, random_state=42)\n",
        "\n",
        "# Train the AdaBoost classifier\n",
        "adaboost_classifier.fit(x_train, y_train)\n",
        "\n",
        "# Make predictions on the test set\n",
        "y_pred = adaboost_classifier.predict(x_test)\n",
        "\n",
        "# Calculate accuracy\n",
        "accuracy = accuracy_score(y_test, y_pred)\n",
        "print(\"Accuracy:\", accuracy)\n"
      ],
      "metadata": {
        "colab": {
          "base_uri": "https://localhost:8080/"
        },
        "id": "LVppzc1F4YpR",
        "outputId": "43d1e33b-4a4a-439d-903d-a913b38fcc77"
      },
      "execution_count": null,
      "outputs": [
        {
          "output_type": "stream",
          "name": "stderr",
          "text": [
            "/usr/local/lib/python3.10/dist-packages/sklearn/ensemble/_base.py:166: FutureWarning: `base_estimator` was renamed to `estimator` in version 1.2 and will be removed in 1.4.\n",
            "  warnings.warn(\n"
          ]
        },
        {
          "output_type": "stream",
          "name": "stdout",
          "text": [
            "Accuracy: 0.31125\n"
          ]
        }
      ]
    },
    {
      "cell_type": "markdown",
      "source": [
        "### XGBoost"
      ],
      "metadata": {
        "id": "6TaKOa_K6U3L"
      }
    },
    {
      "cell_type": "code",
      "source": [
        "\n",
        "# Convert the datasets to DMatrix format (required for XGBoost)\n",
        "dtrain = xgb.DMatrix(x_train, label=y_train)\n",
        "dtest = xgb.DMatrix(x_test, label=y_test)\n",
        "\n",
        "# Define the parameters for XGBoost\n",
        "params = {\n",
        "    'max_depth': 3,\n",
        "    'eta': 0.1,\n",
        "    'objective': 'multi:softmax',\n",
        "    'num_class': len(np.unique(y_train)),\n",
        "    'eval_metric': 'merror'\n",
        "}\n",
        "\n",
        "# Train the XGBoost model\n",
        "num_rounds = 100\n",
        "xgb_model = xgb.train(params, dtrain, num_rounds)\n",
        "\n",
        "# Make predictions on the test set\n",
        "y_pred = xgb_model.predict(dtest)\n",
        "\n",
        "# Calculate accuracy\n",
        "accuracy = accuracy_score(y_test, y_pred)\n",
        "print(\"Accuracy:\", accuracy)\n"
      ],
      "metadata": {
        "colab": {
          "base_uri": "https://localhost:8080/"
        },
        "id": "T6rmbLIB45ux",
        "outputId": "51ffd9b7-224b-441a-d27e-bb3cfdda6730"
      },
      "execution_count": null,
      "outputs": [
        {
          "output_type": "stream",
          "name": "stdout",
          "text": [
            "Accuracy: 0.6005\n"
          ]
        }
      ]
    },
    {
      "cell_type": "markdown",
      "source": [
        "### Simple MLP\n"
      ],
      "metadata": {
        "id": "jXkZ-l_O87vA"
      }
    },
    {
      "cell_type": "code",
      "source": [
        "# Define the MLP model\n",
        "class MLP(nn.Module):\n",
        "    def __init__(self):\n",
        "        super(MLP, self).__init__()\n",
        "        self.flatten = nn.Flatten()\n",
        "        self.fc1 = nn.Linear(28*28, 512)\n",
        "        self.fc2 = nn.Linear(512, 128)\n",
        "        self.fc3 = nn.Linear(128, 32)\n",
        "        self.relu = nn.ReLU()\n",
        "\n",
        "        self.fc4 = nn.Linear(32, 20)  # Assuming 20 output classes\n",
        "\n",
        "    def forward(self, x):\n",
        "        x = self.flatten(x)\n",
        "        x = self.fc1(x)\n",
        "        x = self.relu(x)\n",
        "        x = self.fc2(x)\n",
        "        x = self.relu(x)\n",
        "        x = self.fc3(x)\n",
        "        return x"
      ],
      "metadata": {
        "id": "FmKC9ojR9xB3"
      },
      "execution_count": null,
      "outputs": []
    },
    {
      "cell_type": "code",
      "source": [
        "# Convert data to PyTorch tensors\n",
        "x_train_tensor = torch.tensor(filter_x_train, dtype=torch.float32)\n",
        "y_train_tensor = torch.tensor(y_train, dtype=torch.long)\n",
        "x_test_tensor = torch.tensor(filter_x_test, dtype=torch.float32)\n",
        "y_test_tensor = torch.tensor(y_test, dtype=torch.long)\n",
        "\n",
        "# Create DataLoader\n",
        "train_dataset = TensorDataset(x_train_tensor, y_train_tensor)\n",
        "train_loader = DataLoader(train_dataset, batch_size=64, shuffle=True)\n",
        "\n",
        "test_dataset = TensorDataset(x_test_tensor, y_test_tensor)\n",
        "test_loader = DataLoader(test_dataset, batch_size = 64, shuffle = True)\n",
        "\n",
        "# Initialize the model, loss function, and optimizer\n",
        "model = MLP()\n",
        "criterion = nn.CrossEntropyLoss()\n",
        "optimizer = optim.Adam(model.parameters(), lr=0.001)\n",
        "\n",
        "# Training loop\n",
        "num_epochs = 5\n",
        "for epoch in range(num_epochs):\n",
        "    model.train()\n",
        "    for images, labels in tqdm(train_loader, desc=f\"Epoch {epoch+1}/{num_epochs}\"):\n",
        "        optimizer.zero_grad()\n",
        "        outputs = model(images)\n",
        "        loss = criterion(outputs, labels)\n",
        "        loss.backward()\n",
        "        optimizer.step()\n",
        "\n",
        "# Evaluation\n",
        "model.eval()\n",
        "correct = 0\n",
        "total = 0\n",
        "with torch.no_grad():\n",
        "    for images, labels in tqdm(test_loader, desc=\"Evaluating\"):\n",
        "        outputs = model(images)\n",
        "        _, predicted = torch.max(outputs.data, 1)\n",
        "        total += labels.size(0)\n",
        "        correct += (predicted == labels).sum().item()\n",
        "\n",
        "print(f\"Accuracy: {correct/total}\")\n"
      ],
      "metadata": {
        "colab": {
          "base_uri": "https://localhost:8080/"
        },
        "id": "nZYMF7jL8_dV",
        "outputId": "149aaf02-0014-4e96-eca4-cdf28f0bf882"
      },
      "execution_count": null,
      "outputs": [
        {
          "output_type": "stream",
          "name": "stderr",
          "text": [
            "Epoch 1/5: 100%|██████████| 250/250 [00:01<00:00, 140.31it/s]\n",
            "Epoch 2/5: 100%|██████████| 250/250 [00:01<00:00, 145.17it/s]\n",
            "Epoch 3/5: 100%|██████████| 250/250 [00:01<00:00, 134.52it/s]\n",
            "Epoch 4/5: 100%|██████████| 250/250 [00:02<00:00, 91.21it/s]\n",
            "Epoch 5/5: 100%|██████████| 250/250 [00:03<00:00, 82.74it/s]\n",
            "Evaluating: 100%|██████████| 63/63 [00:00<00:00, 290.47it/s]"
          ]
        },
        {
          "output_type": "stream",
          "name": "stdout",
          "text": [
            "Accuracy: 0.62475\n"
          ]
        },
        {
          "output_type": "stream",
          "name": "stderr",
          "text": [
            "\n"
          ]
        }
      ]
    },
    {
      "cell_type": "code",
      "source": [
        "# Define the MLP model\n",
        "class MLPHOG(nn.Module):\n",
        "    def __init__(self):\n",
        "        super(MLPHOG, self).__init__()\n",
        "        self.flatten = nn.Flatten()\n",
        "        self.fc1 = nn.Linear(392, 128)\n",
        "        self.fc2 = nn.Linear(128, 32)\n",
        "        self.relu = nn.ReLU()\n",
        "\n",
        "        self.fc3 = nn.Linear(32, 20)  # Assuming 20 output classes\n",
        "\n",
        "    def forward(self, x):\n",
        "        x = self.flatten(x)\n",
        "        x = self.fc1(x)\n",
        "        x = self.relu(x)\n",
        "        x = self.fc2(x)\n",
        "        x = self.relu(x)\n",
        "        x = self.fc3(x)\n",
        "        return x"
      ],
      "metadata": {
        "id": "09t45JpIETDR"
      },
      "execution_count": null,
      "outputs": []
    },
    {
      "cell_type": "code",
      "source": [
        "# Convert data to PyTorch tensors\n",
        "x_train_tensor = torch.tensor(hog_features_train, dtype=torch.float32)\n",
        "y_train_tensor = torch.tensor(y_train, dtype=torch.long)\n",
        "x_test_tensor = torch.tensor(hog_features_test, dtype=torch.float32)\n",
        "y_test_tensor = torch.tensor(y_test, dtype=torch.long)\n",
        "\n",
        "# Create DataLoader\n",
        "train_dataset = TensorDataset(x_train_tensor, y_train_tensor)\n",
        "train_loader = DataLoader(train_dataset, batch_size=64, shuffle=True)\n",
        "\n",
        "test_dataset = TensorDataset(x_test_tensor, y_test_tensor)\n",
        "test_loader = DataLoader(test_dataset, batch_size = 64, shuffle = True)\n",
        "\n",
        "# Initialize the model, loss function, and optimizer\n",
        "model = MLPHOG()\n",
        "criterion = nn.CrossEntropyLoss()\n",
        "optimizer = optim.Adam(model.parameters(), lr=0.001)\n",
        "\n",
        "# Training loop\n",
        "num_epochs = 5\n",
        "for epoch in range(num_epochs):\n",
        "    model.train()\n",
        "    for images, labels in tqdm(train_loader, desc=f\"Epoch {epoch+1}/{num_epochs}\"):\n",
        "        optimizer.zero_grad()\n",
        "        outputs = model(images)\n",
        "        loss = criterion(outputs, labels)\n",
        "        loss.backward()\n",
        "        optimizer.step()\n",
        "\n",
        "# Evaluation\n",
        "model.eval()\n",
        "correct = 0\n",
        "total = 0\n",
        "with torch.no_grad():\n",
        "    for images, labels in tqdm(test_loader, desc=\"Evaluating\"):\n",
        "        outputs = model(images)\n",
        "        _, predicted = torch.max(outputs.data, 1)\n",
        "        total += labels.size(0)\n",
        "        correct += (predicted == labels).sum().item()\n",
        "\n",
        "print(f\"Accuracy: {correct/total}\")\n"
      ],
      "metadata": {
        "colab": {
          "base_uri": "https://localhost:8080/"
        },
        "id": "PG4waRUr-E-p",
        "outputId": "db93d9ba-c7f8-48e1-f1e7-797df119a9ab"
      },
      "execution_count": null,
      "outputs": [
        {
          "output_type": "stream",
          "name": "stderr",
          "text": [
            "Epoch 1/5: 100%|██████████| 250/250 [00:00<00:00, 399.45it/s]\n",
            "Epoch 2/5: 100%|██████████| 250/250 [00:00<00:00, 381.54it/s]\n",
            "Epoch 3/5: 100%|██████████| 250/250 [00:00<00:00, 393.80it/s]\n",
            "Epoch 4/5: 100%|██████████| 250/250 [00:00<00:00, 331.33it/s]\n",
            "Epoch 5/5: 100%|██████████| 250/250 [00:00<00:00, 259.38it/s]\n",
            "Evaluating: 100%|██████████| 63/63 [00:00<00:00, 562.44it/s]"
          ]
        },
        {
          "output_type": "stream",
          "name": "stdout",
          "text": [
            "Accuracy: 0.7165\n"
          ]
        },
        {
          "output_type": "stream",
          "name": "stderr",
          "text": [
            "\n"
          ]
        }
      ]
    },
    {
      "cell_type": "markdown",
      "source": [
        "### Xception\n"
      ],
      "metadata": {
        "id": "Q0EeUPmuXdKW"
      }
    },
    {
      "cell_type": "markdown",
      "source": [
        "## Results and Visualization"
      ],
      "metadata": {
        "id": "y2vocamRRs7v"
      }
    },
    {
      "cell_type": "code",
      "source": [
        "\n",
        "# Define the data\n",
        "models = ['Simple Image', 'Flip', 'Rotation', 'Denoised', 'Corner', 'Edge', 'Contrast', 'Filter', 'CLAHE', 'Sharp', 'HOG']\n",
        "accuracies = [0.647, 0.6155, 0.61175, 0.6625, 0.60425, 0.50275, 0.6, 0.684, 0.6035, 0.639, 0.7215]\n",
        "\n",
        "# Create a bar graph\n",
        "fig = go.Figure(data=[go.Bar(x=models, y=accuracies)])\n",
        "\n",
        "# Customize the layout\n",
        "fig.update_layout(title='Different image processing/enhancement comparison', xaxis_title='Model/Enhancement', yaxis_title='Accuracy')\n",
        "\n",
        "# Show the plot\n",
        "fig.show()\n",
        "\n"
      ],
      "metadata": {
        "colab": {
          "base_uri": "https://localhost:8080/",
          "height": 542
        },
        "id": "KFe5B3DfRvRw",
        "outputId": "0630aa15-4cd2-4f87-951f-686501a1fd91"
      },
      "execution_count": null,
      "outputs": [
        {
          "output_type": "display_data",
          "data": {
            "text/html": [
              "<html>\n",
              "<head><meta charset=\"utf-8\" /></head>\n",
              "<body>\n",
              "    <div>            <script src=\"https://cdnjs.cloudflare.com/ajax/libs/mathjax/2.7.5/MathJax.js?config=TeX-AMS-MML_SVG\"></script><script type=\"text/javascript\">if (window.MathJax && window.MathJax.Hub && window.MathJax.Hub.Config) {window.MathJax.Hub.Config({SVG: {font: \"STIX-Web\"}});}</script>                <script type=\"text/javascript\">window.PlotlyConfig = {MathJaxConfig: 'local'};</script>\n",
              "        <script charset=\"utf-8\" src=\"https://cdn.plot.ly/plotly-2.24.1.min.js\"></script>                <div id=\"739c8f8d-c9a5-4b69-9af0-4dff5742fa25\" class=\"plotly-graph-div\" style=\"height:525px; width:100%;\"></div>            <script type=\"text/javascript\">                                    window.PLOTLYENV=window.PLOTLYENV || {};                                    if (document.getElementById(\"739c8f8d-c9a5-4b69-9af0-4dff5742fa25\")) {                    Plotly.newPlot(                        \"739c8f8d-c9a5-4b69-9af0-4dff5742fa25\",                        [{\"x\":[\"Simple Image\",\"Flip\",\"Rotation\",\"Denoised\",\"Corner\",\"Edge\",\"Contrast\",\"Filter\",\"CLAHE\",\"Sharp\",\"HOG\"],\"y\":[0.647,0.6155,0.61175,0.6625,0.60425,0.50275,0.6,0.684,0.6035,0.639,0.7215],\"type\":\"bar\"}],                        {\"template\":{\"data\":{\"histogram2dcontour\":[{\"type\":\"histogram2dcontour\",\"colorbar\":{\"outlinewidth\":0,\"ticks\":\"\"},\"colorscale\":[[0.0,\"#0d0887\"],[0.1111111111111111,\"#46039f\"],[0.2222222222222222,\"#7201a8\"],[0.3333333333333333,\"#9c179e\"],[0.4444444444444444,\"#bd3786\"],[0.5555555555555556,\"#d8576b\"],[0.6666666666666666,\"#ed7953\"],[0.7777777777777778,\"#fb9f3a\"],[0.8888888888888888,\"#fdca26\"],[1.0,\"#f0f921\"]]}],\"choropleth\":[{\"type\":\"choropleth\",\"colorbar\":{\"outlinewidth\":0,\"ticks\":\"\"}}],\"histogram2d\":[{\"type\":\"histogram2d\",\"colorbar\":{\"outlinewidth\":0,\"ticks\":\"\"},\"colorscale\":[[0.0,\"#0d0887\"],[0.1111111111111111,\"#46039f\"],[0.2222222222222222,\"#7201a8\"],[0.3333333333333333,\"#9c179e\"],[0.4444444444444444,\"#bd3786\"],[0.5555555555555556,\"#d8576b\"],[0.6666666666666666,\"#ed7953\"],[0.7777777777777778,\"#fb9f3a\"],[0.8888888888888888,\"#fdca26\"],[1.0,\"#f0f921\"]]}],\"heatmap\":[{\"type\":\"heatmap\",\"colorbar\":{\"outlinewidth\":0,\"ticks\":\"\"},\"colorscale\":[[0.0,\"#0d0887\"],[0.1111111111111111,\"#46039f\"],[0.2222222222222222,\"#7201a8\"],[0.3333333333333333,\"#9c179e\"],[0.4444444444444444,\"#bd3786\"],[0.5555555555555556,\"#d8576b\"],[0.6666666666666666,\"#ed7953\"],[0.7777777777777778,\"#fb9f3a\"],[0.8888888888888888,\"#fdca26\"],[1.0,\"#f0f921\"]]}],\"heatmapgl\":[{\"type\":\"heatmapgl\",\"colorbar\":{\"outlinewidth\":0,\"ticks\":\"\"},\"colorscale\":[[0.0,\"#0d0887\"],[0.1111111111111111,\"#46039f\"],[0.2222222222222222,\"#7201a8\"],[0.3333333333333333,\"#9c179e\"],[0.4444444444444444,\"#bd3786\"],[0.5555555555555556,\"#d8576b\"],[0.6666666666666666,\"#ed7953\"],[0.7777777777777778,\"#fb9f3a\"],[0.8888888888888888,\"#fdca26\"],[1.0,\"#f0f921\"]]}],\"contourcarpet\":[{\"type\":\"contourcarpet\",\"colorbar\":{\"outlinewidth\":0,\"ticks\":\"\"}}],\"contour\":[{\"type\":\"contour\",\"colorbar\":{\"outlinewidth\":0,\"ticks\":\"\"},\"colorscale\":[[0.0,\"#0d0887\"],[0.1111111111111111,\"#46039f\"],[0.2222222222222222,\"#7201a8\"],[0.3333333333333333,\"#9c179e\"],[0.4444444444444444,\"#bd3786\"],[0.5555555555555556,\"#d8576b\"],[0.6666666666666666,\"#ed7953\"],[0.7777777777777778,\"#fb9f3a\"],[0.8888888888888888,\"#fdca26\"],[1.0,\"#f0f921\"]]}],\"surface\":[{\"type\":\"surface\",\"colorbar\":{\"outlinewidth\":0,\"ticks\":\"\"},\"colorscale\":[[0.0,\"#0d0887\"],[0.1111111111111111,\"#46039f\"],[0.2222222222222222,\"#7201a8\"],[0.3333333333333333,\"#9c179e\"],[0.4444444444444444,\"#bd3786\"],[0.5555555555555556,\"#d8576b\"],[0.6666666666666666,\"#ed7953\"],[0.7777777777777778,\"#fb9f3a\"],[0.8888888888888888,\"#fdca26\"],[1.0,\"#f0f921\"]]}],\"mesh3d\":[{\"type\":\"mesh3d\",\"colorbar\":{\"outlinewidth\":0,\"ticks\":\"\"}}],\"scatter\":[{\"fillpattern\":{\"fillmode\":\"overlay\",\"size\":10,\"solidity\":0.2},\"type\":\"scatter\"}],\"parcoords\":[{\"type\":\"parcoords\",\"line\":{\"colorbar\":{\"outlinewidth\":0,\"ticks\":\"\"}}}],\"scatterpolargl\":[{\"type\":\"scatterpolargl\",\"marker\":{\"colorbar\":{\"outlinewidth\":0,\"ticks\":\"\"}}}],\"bar\":[{\"error_x\":{\"color\":\"#2a3f5f\"},\"error_y\":{\"color\":\"#2a3f5f\"},\"marker\":{\"line\":{\"color\":\"#E5ECF6\",\"width\":0.5},\"pattern\":{\"fillmode\":\"overlay\",\"size\":10,\"solidity\":0.2}},\"type\":\"bar\"}],\"scattergeo\":[{\"type\":\"scattergeo\",\"marker\":{\"colorbar\":{\"outlinewidth\":0,\"ticks\":\"\"}}}],\"scatterpolar\":[{\"type\":\"scatterpolar\",\"marker\":{\"colorbar\":{\"outlinewidth\":0,\"ticks\":\"\"}}}],\"histogram\":[{\"marker\":{\"pattern\":{\"fillmode\":\"overlay\",\"size\":10,\"solidity\":0.2}},\"type\":\"histogram\"}],\"scattergl\":[{\"type\":\"scattergl\",\"marker\":{\"colorbar\":{\"outlinewidth\":0,\"ticks\":\"\"}}}],\"scatter3d\":[{\"type\":\"scatter3d\",\"line\":{\"colorbar\":{\"outlinewidth\":0,\"ticks\":\"\"}},\"marker\":{\"colorbar\":{\"outlinewidth\":0,\"ticks\":\"\"}}}],\"scattermapbox\":[{\"type\":\"scattermapbox\",\"marker\":{\"colorbar\":{\"outlinewidth\":0,\"ticks\":\"\"}}}],\"scatterternary\":[{\"type\":\"scatterternary\",\"marker\":{\"colorbar\":{\"outlinewidth\":0,\"ticks\":\"\"}}}],\"scattercarpet\":[{\"type\":\"scattercarpet\",\"marker\":{\"colorbar\":{\"outlinewidth\":0,\"ticks\":\"\"}}}],\"carpet\":[{\"aaxis\":{\"endlinecolor\":\"#2a3f5f\",\"gridcolor\":\"white\",\"linecolor\":\"white\",\"minorgridcolor\":\"white\",\"startlinecolor\":\"#2a3f5f\"},\"baxis\":{\"endlinecolor\":\"#2a3f5f\",\"gridcolor\":\"white\",\"linecolor\":\"white\",\"minorgridcolor\":\"white\",\"startlinecolor\":\"#2a3f5f\"},\"type\":\"carpet\"}],\"table\":[{\"cells\":{\"fill\":{\"color\":\"#EBF0F8\"},\"line\":{\"color\":\"white\"}},\"header\":{\"fill\":{\"color\":\"#C8D4E3\"},\"line\":{\"color\":\"white\"}},\"type\":\"table\"}],\"barpolar\":[{\"marker\":{\"line\":{\"color\":\"#E5ECF6\",\"width\":0.5},\"pattern\":{\"fillmode\":\"overlay\",\"size\":10,\"solidity\":0.2}},\"type\":\"barpolar\"}],\"pie\":[{\"automargin\":true,\"type\":\"pie\"}]},\"layout\":{\"autotypenumbers\":\"strict\",\"colorway\":[\"#636efa\",\"#EF553B\",\"#00cc96\",\"#ab63fa\",\"#FFA15A\",\"#19d3f3\",\"#FF6692\",\"#B6E880\",\"#FF97FF\",\"#FECB52\"],\"font\":{\"color\":\"#2a3f5f\"},\"hovermode\":\"closest\",\"hoverlabel\":{\"align\":\"left\"},\"paper_bgcolor\":\"white\",\"plot_bgcolor\":\"#E5ECF6\",\"polar\":{\"bgcolor\":\"#E5ECF6\",\"angularaxis\":{\"gridcolor\":\"white\",\"linecolor\":\"white\",\"ticks\":\"\"},\"radialaxis\":{\"gridcolor\":\"white\",\"linecolor\":\"white\",\"ticks\":\"\"}},\"ternary\":{\"bgcolor\":\"#E5ECF6\",\"aaxis\":{\"gridcolor\":\"white\",\"linecolor\":\"white\",\"ticks\":\"\"},\"baxis\":{\"gridcolor\":\"white\",\"linecolor\":\"white\",\"ticks\":\"\"},\"caxis\":{\"gridcolor\":\"white\",\"linecolor\":\"white\",\"ticks\":\"\"}},\"coloraxis\":{\"colorbar\":{\"outlinewidth\":0,\"ticks\":\"\"}},\"colorscale\":{\"sequential\":[[0.0,\"#0d0887\"],[0.1111111111111111,\"#46039f\"],[0.2222222222222222,\"#7201a8\"],[0.3333333333333333,\"#9c179e\"],[0.4444444444444444,\"#bd3786\"],[0.5555555555555556,\"#d8576b\"],[0.6666666666666666,\"#ed7953\"],[0.7777777777777778,\"#fb9f3a\"],[0.8888888888888888,\"#fdca26\"],[1.0,\"#f0f921\"]],\"sequentialminus\":[[0.0,\"#0d0887\"],[0.1111111111111111,\"#46039f\"],[0.2222222222222222,\"#7201a8\"],[0.3333333333333333,\"#9c179e\"],[0.4444444444444444,\"#bd3786\"],[0.5555555555555556,\"#d8576b\"],[0.6666666666666666,\"#ed7953\"],[0.7777777777777778,\"#fb9f3a\"],[0.8888888888888888,\"#fdca26\"],[1.0,\"#f0f921\"]],\"diverging\":[[0,\"#8e0152\"],[0.1,\"#c51b7d\"],[0.2,\"#de77ae\"],[0.3,\"#f1b6da\"],[0.4,\"#fde0ef\"],[0.5,\"#f7f7f7\"],[0.6,\"#e6f5d0\"],[0.7,\"#b8e186\"],[0.8,\"#7fbc41\"],[0.9,\"#4d9221\"],[1,\"#276419\"]]},\"xaxis\":{\"gridcolor\":\"white\",\"linecolor\":\"white\",\"ticks\":\"\",\"title\":{\"standoff\":15},\"zerolinecolor\":\"white\",\"automargin\":true,\"zerolinewidth\":2},\"yaxis\":{\"gridcolor\":\"white\",\"linecolor\":\"white\",\"ticks\":\"\",\"title\":{\"standoff\":15},\"zerolinecolor\":\"white\",\"automargin\":true,\"zerolinewidth\":2},\"scene\":{\"xaxis\":{\"backgroundcolor\":\"#E5ECF6\",\"gridcolor\":\"white\",\"linecolor\":\"white\",\"showbackground\":true,\"ticks\":\"\",\"zerolinecolor\":\"white\",\"gridwidth\":2},\"yaxis\":{\"backgroundcolor\":\"#E5ECF6\",\"gridcolor\":\"white\",\"linecolor\":\"white\",\"showbackground\":true,\"ticks\":\"\",\"zerolinecolor\":\"white\",\"gridwidth\":2},\"zaxis\":{\"backgroundcolor\":\"#E5ECF6\",\"gridcolor\":\"white\",\"linecolor\":\"white\",\"showbackground\":true,\"ticks\":\"\",\"zerolinecolor\":\"white\",\"gridwidth\":2}},\"shapedefaults\":{\"line\":{\"color\":\"#2a3f5f\"}},\"annotationdefaults\":{\"arrowcolor\":\"#2a3f5f\",\"arrowhead\":0,\"arrowwidth\":1},\"geo\":{\"bgcolor\":\"white\",\"landcolor\":\"#E5ECF6\",\"subunitcolor\":\"white\",\"showland\":true,\"showlakes\":true,\"lakecolor\":\"white\"},\"title\":{\"x\":0.05},\"mapbox\":{\"style\":\"light\"}}},\"title\":{\"text\":\"Different image processing\\u002fenhancement comparison\"},\"xaxis\":{\"title\":{\"text\":\"Model\\u002fEnhancement\"}},\"yaxis\":{\"title\":{\"text\":\"Accuracy\"}}},                        {\"responsive\": true}                    ).then(function(){\n",
              "                            \n",
              "var gd = document.getElementById('739c8f8d-c9a5-4b69-9af0-4dff5742fa25');\n",
              "var x = new MutationObserver(function (mutations, observer) {{\n",
              "        var display = window.getComputedStyle(gd).display;\n",
              "        if (!display || display === 'none') {{\n",
              "            console.log([gd, 'removed!']);\n",
              "            Plotly.purge(gd);\n",
              "            observer.disconnect();\n",
              "        }}\n",
              "}});\n",
              "\n",
              "// Listen for the removal of the full notebook cells\n",
              "var notebookContainer = gd.closest('#notebook-container');\n",
              "if (notebookContainer) {{\n",
              "    x.observe(notebookContainer, {childList: true});\n",
              "}}\n",
              "\n",
              "// Listen for the clearing of the current output cell\n",
              "var outputEl = gd.closest('.output');\n",
              "if (outputEl) {{\n",
              "    x.observe(outputEl, {childList: true});\n",
              "}}\n",
              "\n",
              "                        })                };                            </script>        </div>\n",
              "</body>\n",
              "</html>"
            ]
          },
          "metadata": {}
        }
      ]
    },
    {
      "cell_type": "code",
      "source": [
        "\n",
        "# Define the classifiers and their accuracies\n",
        "classifiers = ['KNN', 'Logistic Regression', 'Naive Bayes', 'Random Forest', 'SVM', 'AdaBoost', 'XGBoost', 'MLP', 'Xception']\n",
        "accuracies = [0.62525, 0.46175, 0.32675, 0.7215, 0.77025, 0.31125, 0.6005, 0.7165, 0.80]\n",
        "\n",
        "# Create a bar graph\n",
        "fig = go.Figure(data=[go.Bar(x=classifiers, y=accuracies)])\n",
        "\n",
        "# Customize the layout\n",
        "fig.update_layout(title='Classifier Comparison', xaxis_title='Classifier', yaxis_title='Accuracy')\n",
        "\n",
        "# Show the plot\n",
        "fig.show()\n"
      ],
      "metadata": {
        "colab": {
          "base_uri": "https://localhost:8080/",
          "height": 542
        },
        "id": "PKFQp-5ZSkcY",
        "outputId": "acacef83-b663-4108-b3fe-5da10839824a"
      },
      "execution_count": null,
      "outputs": [
        {
          "output_type": "display_data",
          "data": {
            "text/html": [
              "<html>\n",
              "<head><meta charset=\"utf-8\" /></head>\n",
              "<body>\n",
              "    <div>            <script src=\"https://cdnjs.cloudflare.com/ajax/libs/mathjax/2.7.5/MathJax.js?config=TeX-AMS-MML_SVG\"></script><script type=\"text/javascript\">if (window.MathJax && window.MathJax.Hub && window.MathJax.Hub.Config) {window.MathJax.Hub.Config({SVG: {font: \"STIX-Web\"}});}</script>                <script type=\"text/javascript\">window.PlotlyConfig = {MathJaxConfig: 'local'};</script>\n",
              "        <script charset=\"utf-8\" src=\"https://cdn.plot.ly/plotly-2.24.1.min.js\"></script>                <div id=\"a7f15509-d15c-4d46-9aad-0e15bf5a6e47\" class=\"plotly-graph-div\" style=\"height:525px; width:100%;\"></div>            <script type=\"text/javascript\">                                    window.PLOTLYENV=window.PLOTLYENV || {};                                    if (document.getElementById(\"a7f15509-d15c-4d46-9aad-0e15bf5a6e47\")) {                    Plotly.newPlot(                        \"a7f15509-d15c-4d46-9aad-0e15bf5a6e47\",                        [{\"x\":[\"KNN\",\"Logistic Regression\",\"Naive Bayes\",\"Random Forest\",\"SVM\",\"AdaBoost\",\"XGBoost\",\"MLP\",\"Xception\"],\"y\":[0.62525,0.46175,0.32675,0.7215,0.77025,0.31125,0.6005,0.7165,0.8],\"type\":\"bar\"}],                        {\"template\":{\"data\":{\"histogram2dcontour\":[{\"type\":\"histogram2dcontour\",\"colorbar\":{\"outlinewidth\":0,\"ticks\":\"\"},\"colorscale\":[[0.0,\"#0d0887\"],[0.1111111111111111,\"#46039f\"],[0.2222222222222222,\"#7201a8\"],[0.3333333333333333,\"#9c179e\"],[0.4444444444444444,\"#bd3786\"],[0.5555555555555556,\"#d8576b\"],[0.6666666666666666,\"#ed7953\"],[0.7777777777777778,\"#fb9f3a\"],[0.8888888888888888,\"#fdca26\"],[1.0,\"#f0f921\"]]}],\"choropleth\":[{\"type\":\"choropleth\",\"colorbar\":{\"outlinewidth\":0,\"ticks\":\"\"}}],\"histogram2d\":[{\"type\":\"histogram2d\",\"colorbar\":{\"outlinewidth\":0,\"ticks\":\"\"},\"colorscale\":[[0.0,\"#0d0887\"],[0.1111111111111111,\"#46039f\"],[0.2222222222222222,\"#7201a8\"],[0.3333333333333333,\"#9c179e\"],[0.4444444444444444,\"#bd3786\"],[0.5555555555555556,\"#d8576b\"],[0.6666666666666666,\"#ed7953\"],[0.7777777777777778,\"#fb9f3a\"],[0.8888888888888888,\"#fdca26\"],[1.0,\"#f0f921\"]]}],\"heatmap\":[{\"type\":\"heatmap\",\"colorbar\":{\"outlinewidth\":0,\"ticks\":\"\"},\"colorscale\":[[0.0,\"#0d0887\"],[0.1111111111111111,\"#46039f\"],[0.2222222222222222,\"#7201a8\"],[0.3333333333333333,\"#9c179e\"],[0.4444444444444444,\"#bd3786\"],[0.5555555555555556,\"#d8576b\"],[0.6666666666666666,\"#ed7953\"],[0.7777777777777778,\"#fb9f3a\"],[0.8888888888888888,\"#fdca26\"],[1.0,\"#f0f921\"]]}],\"heatmapgl\":[{\"type\":\"heatmapgl\",\"colorbar\":{\"outlinewidth\":0,\"ticks\":\"\"},\"colorscale\":[[0.0,\"#0d0887\"],[0.1111111111111111,\"#46039f\"],[0.2222222222222222,\"#7201a8\"],[0.3333333333333333,\"#9c179e\"],[0.4444444444444444,\"#bd3786\"],[0.5555555555555556,\"#d8576b\"],[0.6666666666666666,\"#ed7953\"],[0.7777777777777778,\"#fb9f3a\"],[0.8888888888888888,\"#fdca26\"],[1.0,\"#f0f921\"]]}],\"contourcarpet\":[{\"type\":\"contourcarpet\",\"colorbar\":{\"outlinewidth\":0,\"ticks\":\"\"}}],\"contour\":[{\"type\":\"contour\",\"colorbar\":{\"outlinewidth\":0,\"ticks\":\"\"},\"colorscale\":[[0.0,\"#0d0887\"],[0.1111111111111111,\"#46039f\"],[0.2222222222222222,\"#7201a8\"],[0.3333333333333333,\"#9c179e\"],[0.4444444444444444,\"#bd3786\"],[0.5555555555555556,\"#d8576b\"],[0.6666666666666666,\"#ed7953\"],[0.7777777777777778,\"#fb9f3a\"],[0.8888888888888888,\"#fdca26\"],[1.0,\"#f0f921\"]]}],\"surface\":[{\"type\":\"surface\",\"colorbar\":{\"outlinewidth\":0,\"ticks\":\"\"},\"colorscale\":[[0.0,\"#0d0887\"],[0.1111111111111111,\"#46039f\"],[0.2222222222222222,\"#7201a8\"],[0.3333333333333333,\"#9c179e\"],[0.4444444444444444,\"#bd3786\"],[0.5555555555555556,\"#d8576b\"],[0.6666666666666666,\"#ed7953\"],[0.7777777777777778,\"#fb9f3a\"],[0.8888888888888888,\"#fdca26\"],[1.0,\"#f0f921\"]]}],\"mesh3d\":[{\"type\":\"mesh3d\",\"colorbar\":{\"outlinewidth\":0,\"ticks\":\"\"}}],\"scatter\":[{\"fillpattern\":{\"fillmode\":\"overlay\",\"size\":10,\"solidity\":0.2},\"type\":\"scatter\"}],\"parcoords\":[{\"type\":\"parcoords\",\"line\":{\"colorbar\":{\"outlinewidth\":0,\"ticks\":\"\"}}}],\"scatterpolargl\":[{\"type\":\"scatterpolargl\",\"marker\":{\"colorbar\":{\"outlinewidth\":0,\"ticks\":\"\"}}}],\"bar\":[{\"error_x\":{\"color\":\"#2a3f5f\"},\"error_y\":{\"color\":\"#2a3f5f\"},\"marker\":{\"line\":{\"color\":\"#E5ECF6\",\"width\":0.5},\"pattern\":{\"fillmode\":\"overlay\",\"size\":10,\"solidity\":0.2}},\"type\":\"bar\"}],\"scattergeo\":[{\"type\":\"scattergeo\",\"marker\":{\"colorbar\":{\"outlinewidth\":0,\"ticks\":\"\"}}}],\"scatterpolar\":[{\"type\":\"scatterpolar\",\"marker\":{\"colorbar\":{\"outlinewidth\":0,\"ticks\":\"\"}}}],\"histogram\":[{\"marker\":{\"pattern\":{\"fillmode\":\"overlay\",\"size\":10,\"solidity\":0.2}},\"type\":\"histogram\"}],\"scattergl\":[{\"type\":\"scattergl\",\"marker\":{\"colorbar\":{\"outlinewidth\":0,\"ticks\":\"\"}}}],\"scatter3d\":[{\"type\":\"scatter3d\",\"line\":{\"colorbar\":{\"outlinewidth\":0,\"ticks\":\"\"}},\"marker\":{\"colorbar\":{\"outlinewidth\":0,\"ticks\":\"\"}}}],\"scattermapbox\":[{\"type\":\"scattermapbox\",\"marker\":{\"colorbar\":{\"outlinewidth\":0,\"ticks\":\"\"}}}],\"scatterternary\":[{\"type\":\"scatterternary\",\"marker\":{\"colorbar\":{\"outlinewidth\":0,\"ticks\":\"\"}}}],\"scattercarpet\":[{\"type\":\"scattercarpet\",\"marker\":{\"colorbar\":{\"outlinewidth\":0,\"ticks\":\"\"}}}],\"carpet\":[{\"aaxis\":{\"endlinecolor\":\"#2a3f5f\",\"gridcolor\":\"white\",\"linecolor\":\"white\",\"minorgridcolor\":\"white\",\"startlinecolor\":\"#2a3f5f\"},\"baxis\":{\"endlinecolor\":\"#2a3f5f\",\"gridcolor\":\"white\",\"linecolor\":\"white\",\"minorgridcolor\":\"white\",\"startlinecolor\":\"#2a3f5f\"},\"type\":\"carpet\"}],\"table\":[{\"cells\":{\"fill\":{\"color\":\"#EBF0F8\"},\"line\":{\"color\":\"white\"}},\"header\":{\"fill\":{\"color\":\"#C8D4E3\"},\"line\":{\"color\":\"white\"}},\"type\":\"table\"}],\"barpolar\":[{\"marker\":{\"line\":{\"color\":\"#E5ECF6\",\"width\":0.5},\"pattern\":{\"fillmode\":\"overlay\",\"size\":10,\"solidity\":0.2}},\"type\":\"barpolar\"}],\"pie\":[{\"automargin\":true,\"type\":\"pie\"}]},\"layout\":{\"autotypenumbers\":\"strict\",\"colorway\":[\"#636efa\",\"#EF553B\",\"#00cc96\",\"#ab63fa\",\"#FFA15A\",\"#19d3f3\",\"#FF6692\",\"#B6E880\",\"#FF97FF\",\"#FECB52\"],\"font\":{\"color\":\"#2a3f5f\"},\"hovermode\":\"closest\",\"hoverlabel\":{\"align\":\"left\"},\"paper_bgcolor\":\"white\",\"plot_bgcolor\":\"#E5ECF6\",\"polar\":{\"bgcolor\":\"#E5ECF6\",\"angularaxis\":{\"gridcolor\":\"white\",\"linecolor\":\"white\",\"ticks\":\"\"},\"radialaxis\":{\"gridcolor\":\"white\",\"linecolor\":\"white\",\"ticks\":\"\"}},\"ternary\":{\"bgcolor\":\"#E5ECF6\",\"aaxis\":{\"gridcolor\":\"white\",\"linecolor\":\"white\",\"ticks\":\"\"},\"baxis\":{\"gridcolor\":\"white\",\"linecolor\":\"white\",\"ticks\":\"\"},\"caxis\":{\"gridcolor\":\"white\",\"linecolor\":\"white\",\"ticks\":\"\"}},\"coloraxis\":{\"colorbar\":{\"outlinewidth\":0,\"ticks\":\"\"}},\"colorscale\":{\"sequential\":[[0.0,\"#0d0887\"],[0.1111111111111111,\"#46039f\"],[0.2222222222222222,\"#7201a8\"],[0.3333333333333333,\"#9c179e\"],[0.4444444444444444,\"#bd3786\"],[0.5555555555555556,\"#d8576b\"],[0.6666666666666666,\"#ed7953\"],[0.7777777777777778,\"#fb9f3a\"],[0.8888888888888888,\"#fdca26\"],[1.0,\"#f0f921\"]],\"sequentialminus\":[[0.0,\"#0d0887\"],[0.1111111111111111,\"#46039f\"],[0.2222222222222222,\"#7201a8\"],[0.3333333333333333,\"#9c179e\"],[0.4444444444444444,\"#bd3786\"],[0.5555555555555556,\"#d8576b\"],[0.6666666666666666,\"#ed7953\"],[0.7777777777777778,\"#fb9f3a\"],[0.8888888888888888,\"#fdca26\"],[1.0,\"#f0f921\"]],\"diverging\":[[0,\"#8e0152\"],[0.1,\"#c51b7d\"],[0.2,\"#de77ae\"],[0.3,\"#f1b6da\"],[0.4,\"#fde0ef\"],[0.5,\"#f7f7f7\"],[0.6,\"#e6f5d0\"],[0.7,\"#b8e186\"],[0.8,\"#7fbc41\"],[0.9,\"#4d9221\"],[1,\"#276419\"]]},\"xaxis\":{\"gridcolor\":\"white\",\"linecolor\":\"white\",\"ticks\":\"\",\"title\":{\"standoff\":15},\"zerolinecolor\":\"white\",\"automargin\":true,\"zerolinewidth\":2},\"yaxis\":{\"gridcolor\":\"white\",\"linecolor\":\"white\",\"ticks\":\"\",\"title\":{\"standoff\":15},\"zerolinecolor\":\"white\",\"automargin\":true,\"zerolinewidth\":2},\"scene\":{\"xaxis\":{\"backgroundcolor\":\"#E5ECF6\",\"gridcolor\":\"white\",\"linecolor\":\"white\",\"showbackground\":true,\"ticks\":\"\",\"zerolinecolor\":\"white\",\"gridwidth\":2},\"yaxis\":{\"backgroundcolor\":\"#E5ECF6\",\"gridcolor\":\"white\",\"linecolor\":\"white\",\"showbackground\":true,\"ticks\":\"\",\"zerolinecolor\":\"white\",\"gridwidth\":2},\"zaxis\":{\"backgroundcolor\":\"#E5ECF6\",\"gridcolor\":\"white\",\"linecolor\":\"white\",\"showbackground\":true,\"ticks\":\"\",\"zerolinecolor\":\"white\",\"gridwidth\":2}},\"shapedefaults\":{\"line\":{\"color\":\"#2a3f5f\"}},\"annotationdefaults\":{\"arrowcolor\":\"#2a3f5f\",\"arrowhead\":0,\"arrowwidth\":1},\"geo\":{\"bgcolor\":\"white\",\"landcolor\":\"#E5ECF6\",\"subunitcolor\":\"white\",\"showland\":true,\"showlakes\":true,\"lakecolor\":\"white\"},\"title\":{\"x\":0.05},\"mapbox\":{\"style\":\"light\"}}},\"title\":{\"text\":\"Classifier Comparison\"},\"xaxis\":{\"title\":{\"text\":\"Classifier\"}},\"yaxis\":{\"title\":{\"text\":\"Accuracy\"}}},                        {\"responsive\": true}                    ).then(function(){\n",
              "                            \n",
              "var gd = document.getElementById('a7f15509-d15c-4d46-9aad-0e15bf5a6e47');\n",
              "var x = new MutationObserver(function (mutations, observer) {{\n",
              "        var display = window.getComputedStyle(gd).display;\n",
              "        if (!display || display === 'none') {{\n",
              "            console.log([gd, 'removed!']);\n",
              "            Plotly.purge(gd);\n",
              "            observer.disconnect();\n",
              "        }}\n",
              "}});\n",
              "\n",
              "// Listen for the removal of the full notebook cells\n",
              "var notebookContainer = gd.closest('#notebook-container');\n",
              "if (notebookContainer) {{\n",
              "    x.observe(notebookContainer, {childList: true});\n",
              "}}\n",
              "\n",
              "// Listen for the clearing of the current output cell\n",
              "var outputEl = gd.closest('.output');\n",
              "if (outputEl) {{\n",
              "    x.observe(outputEl, {childList: true});\n",
              "}}\n",
              "\n",
              "                        })                };                            </script>        </div>\n",
              "</body>\n",
              "</html>"
            ]
          },
          "metadata": {}
        }
      ]
    }
  ],
  "metadata": {
    "accelerator": "GPU",
    "colab": {
      "gpuType": "T4",
      "provenance": [],
      "collapsed_sections": [
        "HY5_KrmDr66Y",
        "GO8SZKeJbEY-",
        "mDU1YwgaoX8A",
        "896xs4BkgP-x",
        "tnaU6ot0gPzF",
        "kbliZI4OgPpL",
        "MBNz4flVgPeT",
        "NPFVQKPcgh-W",
        "yVnIvYaFFmxa",
        "Ts7fACd5ntsO",
        "GBDpCcDrpY8O",
        "K41c01wsplAI",
        "ymzOQ1CcbLNU",
        "3Odwx7ghqB6h",
        "jy3-eHblqDmO",
        "OqbyIT7QoN-Y",
        "5x2EonLCo3ZN",
        "o8PEc7bho8lb",
        "mvLvTtBVpBwH",
        "j_20PpkDQCbL",
        "pQcNm8ZoQYRY",
        "6TaKOa_K6U3L",
        "jXkZ-l_O87vA",
        "y2vocamRRs7v"
      ]
    },
    "kernelspec": {
      "display_name": "Python 3",
      "name": "python3"
    },
    "language_info": {
      "name": "python"
    }
  },
  "nbformat": 4,
  "nbformat_minor": 0
}